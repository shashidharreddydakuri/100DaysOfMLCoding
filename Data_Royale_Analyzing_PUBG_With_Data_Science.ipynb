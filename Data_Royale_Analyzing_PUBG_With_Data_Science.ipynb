{
  "nbformat": 4,
  "nbformat_minor": 0,
  "metadata": {
    "accelerator": "GPU",
    "colab": {
      "name": "Data_Royale_Analyzing_PUBG_With_Data_Science.ipynb",
      "provenance": [],
      "collapsed_sections": [],
      "machine_shape": "hm",
      "include_colab_link": true
    },
    "kernelspec": {
      "display_name": "Python 3",
      "language": "python",
      "name": "python3"
    },
    "language_info": {
      "codemirror_mode": {
        "name": "ipython",
        "version": 3
      },
      "file_extension": ".py",
      "mimetype": "text/x-python",
      "name": "python",
      "nbconvert_exporter": "python",
      "pygments_lexer": "ipython3",
      "version": "3.6.3"
    }
  },
  "cells": [
    {
      "cell_type": "markdown",
      "metadata": {
        "id": "view-in-github",
        "colab_type": "text"
      },
      "source": [
        "<a href=\"https://colab.research.google.com/github/shashidharreddydakuri/100DaysOfMLCoding/blob/master/Data_Royale_Analyzing_PUBG_With_Data_Science.ipynb\" target=\"_parent\"><img src=\"https://colab.research.google.com/assets/colab-badge.svg\" alt=\"Open In Colab\"/></a>"
      ]
    },
    {
      "cell_type": "markdown",
      "metadata": {
        "colab_type": "text",
        "id": "rxwwALHHfhfF"
      },
      "source": [
        "![alt text](https://i.imgur.com/aZbfX73.png)\n"
      ]
    },
    {
      "cell_type": "code",
      "metadata": {
        "colab_type": "code",
        "id": "jv74zG09MRju",
        "colab": {}
      },
      "source": [
        "#Mount your google drive to fetch the stored data\n",
        "from google.colab import drive\n",
        "drive.mount('/content/drive')"
      ],
      "execution_count": 0,
      "outputs": []
    },
    {
      "cell_type": "code",
      "metadata": {
        "colab_type": "code",
        "id": "9kye97CLdYIW",
        "colab": {}
      },
      "source": [
        "from google.colab import drive\n",
        "drive.mount('/content/drive')"
      ],
      "execution_count": 0,
      "outputs": []
    },
    {
      "cell_type": "markdown",
      "metadata": {
        "colab_type": "text",
        "id": "uq7hhWInzODX"
      },
      "source": [
        "#PUBG: Battle Royale - Finish Placement Prediction"
      ]
    },
    {
      "cell_type": "markdown",
      "metadata": {
        "colab_type": "text",
        "id": "KYqcX9xCU2te"
      },
      "source": [
        "**Problem Statement:**\n",
        "\n",
        "In a PUBG game, up to 100 players start in each match (**matchId**). Players (**Id**) can be on teams (**groupId**) which get ranked at the end of the game (**winPlacePerc**) based on how many other teams are still alive when they are eliminated. During the game, players can pick up different amunitions, revive downed-but-not-dead (knocked) teammates, drive vehicles, swim, run, shoot, and experience all of the consequences -- such as falling too far or running themselves over and eliminating themselves.\n",
        "\n",
        "The team at [PUBG](https://www.pubg.com/) has made official game data available for the public to explore and scavenge outside of \"The Blue Circle.\" This workshop is not an official or affiliated PUBG site. Its based on the data collected by Kaggle and made available through the [PUBG Developer API](https://developer.pubg.com/).\n",
        "\n",
        "You are provided with a large number of anonymized PUBG game stats, formatted so that each row contains one player's post-game stats. The data comes from matches of all types: solos, duos, squads, and custom; there is no guarantee of there being 100 players per match, nor at most 4 player per group.\n",
        "\n",
        "**Goal:** \n",
        "\n",
        "Perform the PUBG data analysis and answer the following questions:\n",
        "\n",
        "- Does killing more people increases the chance of winning the game?\n",
        "  - **Hint:** Use the correlation between the match winning percentage and number of kills to determine the relationship\n",
        "\n",
        "- How do we catch the fraudsters in the game?\n",
        " - **Hint:** Use various logical conditions based on game knowledge to determine fraudsters in the game\n",
        "\n",
        "- Can we predict the finishing position of a player in the game?\n",
        " - **Hint:** Regression Problem: Train and test a model using regression algorithm to predict the final position of the player at the end of the game. Create a model which **predicts players' finishing placement** based on their final stats, on a scale from 1 (first place) to 0 (last place).\n",
        "\n",
        "\n",
        "\n",
        "\n",
        "![](https://thumbs.gfycat.com/SlimyInsignificantDolphin-max-1mb.gif)"
      ]
    },
    {
      "cell_type": "code",
      "metadata": {
        "colab_type": "code",
        "id": "FL0_kmDpfAqP",
        "colab": {}
      },
      "source": [
        "# Importing the required libraries for this project\n",
        "import numpy as np\n",
        "import pandas as pd\n",
        "import matplotlib.pyplot as plt\n",
        "import seaborn as sns \n",
        "import itertools\n",
        "import warnings\n",
        "warnings.filterwarnings(\"ignore\")"
      ],
      "execution_count": 0,
      "outputs": []
    },
    {
      "cell_type": "markdown",
      "metadata": {
        "colab_type": "text",
        "id": "FI8KJpEwF2id"
      },
      "source": [
        "##Loading the Data"
      ]
    },
    {
      "cell_type": "markdown",
      "metadata": {
        "colab_type": "text",
        "id": "CKhMK-hjRPON"
      },
      "source": [
        "###Reduce Memory Usage"
      ]
    },
    {
      "cell_type": "markdown",
      "metadata": {
        "colab_type": "text",
        "id": "igDu6PLUcpmg"
      },
      "source": [
        "The size of the PUBG dataset is pretty big for a lower/mid-range laptop so here's a script to make the dataset smaller without losing information.\n",
        "\n",
        "It uses the following approach:\n",
        "- Iterate over every column\n",
        "- Determine if the column is numeric\n",
        "- Determine if the column can be represented by an integer\n",
        "- Find the min and the max value\n",
        "- Determine and apply the smallest datatype that can fit the range of values\n",
        "\n",
        "This reduces the dataset from approx. 900 MB to 466 MB"
      ]
    },
    {
      "cell_type": "code",
      "metadata": {
        "colab_type": "code",
        "id": "qNPQ876ZD_6O",
        "colab": {}
      },
      "source": [
        "# Memory saving function credit to https://www.kaggle.com/gemartin/load-data-reduce-memory-usage\n",
        "def reduce_mem_usage(df):\n",
        "    \"\"\" iterate through all the columns of a dataframe and modify the data type\n",
        "        to reduce memory usage.\n",
        "    \"\"\"\n",
        "    start_mem = df.memory_usage().sum() / 1024**2\n",
        "    \n",
        "    for col in df.columns:\n",
        "        col_type = df[col].dtype\n",
        "        \n",
        "        if col_type != object:\n",
        "            c_min = df[col].min()\n",
        "            c_max = df[col].max()\n",
        "            if str(col_type)[:3] == 'int':\n",
        "                if c_min > np.iinfo(np.int8).min and c_max < np.iinfo(np.int8).max:\n",
        "                    df[col] = df[col].astype(np.int8)\n",
        "                elif c_min > np.iinfo(np.int16).min and c_max < np.iinfo(np.int16).max:\n",
        "                    df[col] = df[col].astype(np.int16)\n",
        "                elif c_min > np.iinfo(np.int32).min and c_max < np.iinfo(np.int32).max:\n",
        "                    df[col] = df[col].astype(np.int32)\n",
        "                elif c_min > np.iinfo(np.int64).min and c_max < np.iinfo(np.int64).max:\n",
        "                    df[col] = df[col].astype(np.int64)\n",
        "            else:\n",
        "                #if c_min > np.finfo(np.float16).min and c_max < np.finfo(np.float16).max:\n",
        "                #    df[col] = df[col].astype(np.float16)\n",
        "                #el\n",
        "                if c_min > np.finfo(np.float32).min and c_max < np.finfo(np.float32).max:\n",
        "                    df[col] = df[col].astype(np.float32)\n",
        "                else:\n",
        "                    df[col] = df[col].astype(np.float64)\n",
        "        #else:\n",
        "            #df[col] = df[col].astype('category')\n",
        "\n",
        "    end_mem = df.memory_usage().sum() / 1024**2\n",
        "    print('Memory usage of dataframe is {:.2f} MB --> {:.2f} MB (Decreased by {:.1f}%)'.format(\n",
        "        start_mem, end_mem, 100 * (start_mem - end_mem) / start_mem))\n",
        "    return df"
      ],
      "execution_count": 0,
      "outputs": []
    },
    {
      "cell_type": "markdown",
      "metadata": {
        "colab_type": "text",
        "id": "e7IYP3FfRbkI"
      },
      "source": [
        "###Loading CSV files to Dataframe"
      ]
    },
    {
      "cell_type": "code",
      "metadata": {
        "colab_type": "code",
        "id": "Iuv_-ELZ8maO",
        "colab": {}
      },
      "source": [
        "%%time\n",
        "train = pd.read_csv('/content/drive/My Drive/PUBG Data/train_V2.csv')\n",
        "train = reduce_mem_usage(train)\n",
        "test = pd.read_csv('/content/drive/My Drive/PUBG Data/test_V2.csv')\n",
        "test = reduce_mem_usage(test)\n",
        "print(train.shape, test.shape)"
      ],
      "execution_count": 0,
      "outputs": []
    },
    {
      "cell_type": "code",
      "metadata": {
        "colab_type": "code",
        "id": "yvDJEBrOUck6",
        "colab": {}
      },
      "source": [
        "train.info()"
      ],
      "execution_count": 0,
      "outputs": []
    },
    {
      "cell_type": "code",
      "metadata": {
        "colab_type": "code",
        "id": "_bnj-GxpUcgs",
        "colab": {}
      },
      "source": [
        "train.head()"
      ],
      "execution_count": 0,
      "outputs": []
    },
    {
      "cell_type": "markdown",
      "metadata": {
        "colab_type": "text",
        "id": "ULDTEVph8HMh"
      },
      "source": [
        "##Dataset Description: Know your data first!"
      ]
    },
    {
      "cell_type": "markdown",
      "metadata": {
        "colab_type": "text",
        "id": "Psj69T87Veuq"
      },
      "source": [
        "We’ll be using data collected by Kaggle via the [PUBG Developer API](https://developer.pubg.com/). The dataset comprises of 65,000 games worth of anonymised player data, split into training and tests sets. For the purposes of this exploratory analysis we’re only going to be looking at the training data set.\n",
        "\n",
        "The training set comes in the form of a .CSV file. This file contains 4,446,966 rows and 29 columns.\n",
        "- **groupId** - Integer ID to identify a group within a match. If the same group of players plays in different matches, they will have a different groupId each time. \n",
        "\n",
        "(**Think:** *Will groupID add any value in our prediction?)*\n",
        "- **matchId** - Integer ID to identify match. There are no matches that are in both the training and testing set.\n",
        "\n",
        "(**Think:** *Why matchID won't add any value in our prediction?)*\n",
        "- **assists** - Number of times you helped your friend when he killed an enemy\n",
        "- **boosts** - Number of boost items used.\n",
        "\n",
        "**What is it ?** Boost may refer to Energy Drink,Painkillers, Adrenaline Syringe\n",
        "\n",
        "**About:** The boost bar is a thin white line visible above the health bar. It is cut into 4 sections, which fill up when the player uses a boost item. The first section of the boost bar lasts for 1 minute and will heal 1% health every 8 seconds, for a total of 7% health.\n",
        "- **damageDealt** - Total damage dealt. Note: Self inflicted damage is subtracted.\n",
        "- **DBNOs** - Number of enemy players knocked\n",
        "\n",
        "**What is it?** Stands for 'Down But No Out'. During Duo or squad play, when you lose all your hit points(HP), you get into this mode. In this mode, your duo or squad members can heal you and that is why we don't count this as an out.\n",
        "'Revive State' is a feature in BATTLEGROUNDS that can be used to revive downed squad mates. Once your HP reaches 0 you will go into a DBNO state. You can only crawl and drop items, but you cannot shoot or use items while in this state.\n",
        "- **headshotKills** - Number of enemies you killed with headshots.\n",
        "- **heals** - Number of healing items used.\n",
        "\n",
        "(**Think:** *Will heals add any value in predicting finish placement?)*\n",
        "\n",
        "**About:** There are three basic health items in PUBG: Bandages, First Aid Kits and Med Kits. These all restore your health bar. \n",
        "- **killPlace** - Your ranking in match in terms of number of enemy players killed.\n",
        "- **killPoints** - Kills-based external ranking of player. (Ranking where only winning matters).\n",
        "- **kills** - Number of enemy players killed.\n",
        "- **killStreaks** - Max number of enemy players killed in a short amount of time. A Killstreak is earned when a player acquires a certain number of kills in a row without dying.\n",
        "- **longestKill** - Longest distance between player and player killed at time of death. This may be misleading, as downing a - player and driving away may lead to a large longestKill stat.\n",
        "- **maxPlace** - Worst placement we have data for in the match. This may not match with numGroups, as sometimes the data skips over placements.\n",
        "- **numGroups** - Number of groups we have data for in the match.\n",
        "- **revives** - Number of times you revived your teammates.\n",
        "- **rideDistance** - Total distance traveled in vehicles (measured in meters).\n",
        "- **roadKills** - Number of enemy killed while travelling in a vehicle.\n",
        "- **swimDistance** - Total distance traveled by swimming (measured in meters).\n",
        "- **teamKills** - Number of times you are killed your teammate.\n",
        "- **vehicleDestroys** - Number of vehicles destroyed.\n",
        "- **walkDistance** - Total distance traveled on foot (measured in meters).\n",
        "- **weaponsAcquired** - Number of weapons picked up.\n",
        "- **winPoints** - Win-based external ranking of player. (Ranking where only winning matters).\n",
        "- **winPlacePerc** - The target of prediction **(Target Variable)**. This is a percentile winning placement, where 1 corresponds to 1st place, and 0 corresponds to last place in the match. It is calculated off of maxPlace, not numGroups, so it is possible to have missing chunks in a match."
      ]
    },
    {
      "cell_type": "code",
      "metadata": {
        "colab_type": "code",
        "id": "Eg8UCXx7O6gS",
        "colab": {}
      },
      "source": [
        "train.tail()"
      ],
      "execution_count": 0,
      "outputs": []
    },
    {
      "cell_type": "markdown",
      "metadata": {
        "colab_type": "text",
        "id": "4liun6ZljDQ7"
      },
      "source": [
        "### Outliers Detection and Anomalies\n",
        "No dataset is ever 100% clean and this PUBG dataset is no different.\n",
        "\n",
        "Some of the data does not reflect the core gameplay because it is drawn from custom game modes or because it has fraudsters. Some of the characteristics of this anomalous data include the following:\n",
        "\n",
        "- Many kills without moving\n",
        "- Many roadkills while driving a very short distance\n",
        "- Suspiciously high number of kills\n",
        "- Suspiciously long range kills\n",
        "\n",
        "We can have a debate on whether to drop this data or not; however, hackers and custom games exist in the test set, so we decided that it is valuable information when training our models.\n",
        "\n",
        "**Corrupt Data:** Due to issues with the API, there is a bug with the groupID column. When a player leaves a match and rejoins, their groupID is reassigned, which causes the creation of larger groups than a gamemode would allow. A squad match only allows 4 people per team. In other words there should be at most 4 of the same groupID’s per team. But because of the bug, we found examples violating this rule in the data. This creates issues when creating team related features as it makes difficult to distinguish the teams.\n",
        "\n",
        "**Useless Data:** Some features like matchId is only useful for feature extraction such as for finding total players in a match. Because matchId is a hex identifier string, it is not ordinal and has very high unique value count, so we cannot one hot encode it as a categorical. We also found that matchID has very little predictive performance on its own."
      ]
    },
    {
      "cell_type": "markdown",
      "metadata": {
        "colab_type": "text",
        "id": "MB5pARhZ4iZS"
      },
      "source": [
        "![alt text](https://thumbs.gfycat.com/LavishSereneDrever-size_restricted.gif)"
      ]
    },
    {
      "cell_type": "markdown",
      "metadata": {
        "colab_type": "text",
        "id": "cnjYQs3yO7Fx"
      },
      "source": [
        "##Tasks to be performed:"
      ]
    },
    {
      "cell_type": "markdown",
      "metadata": {
        "colab_type": "text",
        "id": "Q7ShyVQTV9T0"
      },
      "source": [
        "**Part 1: Exploratory Data Analysis**\n",
        " \n",
        "**Part 2: Data Cleaning: Outlier Detection and Removal - Finding the fraudsters**\n",
        "\n",
        "**Part 3: Feature Engineering**\n",
        "\n",
        "**Part 4: Final Predition**"
      ]
    },
    {
      "cell_type": "markdown",
      "metadata": {
        "colab_type": "text",
        "id": "IjdhRllVZR8U"
      },
      "source": [
        "#Part 1: Exploratory Data Analysis"
      ]
    },
    {
      "cell_type": "markdown",
      "metadata": {
        "colab_type": "text",
        "id": "Jzm52YxhxzW2"
      },
      "source": [
        "###Unique count of Id, groupId, matchId"
      ]
    },
    {
      "cell_type": "code",
      "metadata": {
        "colab_type": "code",
        "id": "ThT-umjqx0F6",
        "colab": {}
      },
      "source": [
        "for i in ['Id','groupId','matchId']:\n",
        "    print(f'unique [{i}] count:', train[i].nunique())"
      ],
      "execution_count": 0,
      "outputs": []
    },
    {
      "cell_type": "markdown",
      "metadata": {
        "colab_type": "text",
        "id": "XI_ydAK3yAzS"
      },
      "source": [
        "### Exploring Different Match Type\n",
        "PUBG offers 3 different game modes:\n",
        "- Solo - One can play alone (solo,solo-fpp,normal-solo,normal-solo-fpp)\n",
        "- Duo - Play with a friend (duo,duo-fpp,normal-duo,normal-duo-fpp,crashfpp,crashtpp)\n",
        "- Squad - Play with 4 friends (squad,squad-fpp,normal-squad,normal-squad-fpp,flarefpp,flaretpp)"
      ]
    },
    {
      "cell_type": "code",
      "metadata": {
        "colab_type": "code",
        "id": "tDV_HJ3ZyI4v",
        "colab": {}
      },
      "source": [
        "fig, ax = plt.subplots(1, 2, figsize=(12, 4))\n",
        "\n",
        "train.groupby('matchId')['matchType'].first().value_counts().plot.bar(ax=ax[0])\n",
        "\n",
        "mapper = lambda x: 'solo' if ('solo' in x) else 'duo' if ('duo' in x) or ('crash' in x) else 'squad'\n",
        "train['matchType'] = train['matchType'].apply(mapper)\n",
        "train.groupby('matchId')['matchType'].first().value_counts().plot.bar(ax=ax[1])"
      ],
      "execution_count": 0,
      "outputs": []
    },
    {
      "cell_type": "markdown",
      "metadata": {
        "colab_type": "text",
        "id": "fTXEw-pfmNdH"
      },
      "source": [
        "###Player Analysis\n",
        "- players in match and group\n",
        "\n",
        "During a game, 100 players join the same server,  so in the case of duos the max teams are 50 and in the case of squads the max teams are 25.\n"
      ]
    },
    {
      "cell_type": "code",
      "metadata": {
        "colab_type": "code",
        "id": "L2KSRz3jmQ6p",
        "colab": {}
      },
      "source": [
        "def mergeList(list1,list2):\n",
        "    return list(itertools.product(list1,list2))\n",
        "match = train.groupby(['matchType','matchId']).size().to_frame('players in match')\n",
        "group = train.groupby(['matchType','matchId','groupId']).size().to_frame('players in group')\n",
        "pd.concat([match.groupby('matchType').describe()[mergeList(['players in match'],['min','mean','max'])], \n",
        "           group.groupby('matchType').describe()[mergeList(['players in group'],['min','mean','max'])]], axis=1)"
      ],
      "execution_count": 0,
      "outputs": []
    },
    {
      "cell_type": "code",
      "metadata": {
        "colab_type": "code",
        "id": "e8iXwvkTnhdN",
        "colab": {}
      },
      "source": [
        "print(group['players in group'].nlargest(5))"
      ],
      "execution_count": 0,
      "outputs": []
    },
    {
      "cell_type": "code",
      "metadata": {
        "colab_type": "code",
        "id": "CFWoWcKSnrbt",
        "colab": {}
      },
      "source": [
        "''' ex) matchId=='3e029737889ce9', groupId=='b8275198faa03b'\n",
        "'''\n",
        "subset = train[train['matchId']=='3e029737889ce9']\n",
        "sub_grp = subset[subset['groupId']=='b8275198faa03b']\n",
        "\n",
        "print('matchId ==\\'3e029737889ce9\\' & groupId ==\\'b8275198faa03b\\'')\n",
        "print('-'*50)\n",
        "print('players:',len(subset))\n",
        "print('groups:',subset['groupId'].nunique())\n",
        "print('numGroups:',subset['numGroups'].unique())\n",
        "print('maxPlace:',subset['maxPlace'].unique())\n",
        "print('-'*50)\n",
        "print('max-group players:',len(sub_grp))\n",
        "print('max-group winPlacePerc:',sub_grp['winPlacePerc'].unique())\n",
        "print('-'*50)\n",
        "print('winPlacePerc:',subset['winPlacePerc'].sort_values().unique())"
      ],
      "execution_count": 0,
      "outputs": []
    },
    {
      "cell_type": "markdown",
      "metadata": {
        "colab_type": "text",
        "id": "rZCtzbdaKrT-"
      },
      "source": [
        "#Check correlation of the feature with Winning Percentage"
      ]
    },
    {
      "cell_type": "code",
      "metadata": {
        "colab_type": "code",
        "id": "Fa8sIfvlWJVF",
        "colab": {}
      },
      "source": [
        "corr = train.corr()\n",
        "f,ax = plt.subplots(figsize=(20, 15))\n",
        "sns.heatmap(train.corr(), annot=True, fmt= '.1f',ax=ax, cmap=\"BrBG\")\n",
        "sns.set(font_scale=1.25)\n",
        "plt.show()"
      ],
      "execution_count": 0,
      "outputs": []
    },
    {
      "cell_type": "markdown",
      "metadata": {
        "colab_type": "text",
        "id": "NdmNfCS8w7KE"
      },
      "source": [
        "# Part 2: Feature Engineering"
      ]
    },
    {
      "cell_type": "markdown",
      "metadata": {
        "colab_type": "text",
        "id": "6l3n2dKK79Zg"
      },
      "source": [
        "##Analysing the Kills\n"
      ]
    },
    {
      "cell_type": "markdown",
      "metadata": {
        "colab_type": "text",
        "id": "nuLZ5s76BLNR"
      },
      "source": [
        "![alt text](https://steamuserimages-a.akamaihd.net/ugc/842590018019929617/58725F9B0995477885F13874DF23461A6F47D90F/)"
      ]
    },
    {
      "cell_type": "code",
      "metadata": {
        "colab_type": "code",
        "id": "KXuo69AN5Y6n",
        "colab": {}
      },
      "source": [
        "print(\"On an average a person kills {:.4f} players, 99% of people have {} kills or less, while the maximum kills ever recorded is {}.\".format(train['kills'].mean(),train['kills'].quantile(0.99), train['kills'].max()))"
      ],
      "execution_count": 0,
      "outputs": []
    },
    {
      "cell_type": "code",
      "metadata": {
        "colab_type": "code",
        "id": "cHPzDIQrS1U5",
        "colab": {}
      },
      "source": [
        "data = train.copy()\n",
        "data.loc[data['kills'] > data['kills'].quantile(0.99)] = '8+'\n",
        "plt.figure(figsize=(15,8))\n",
        "sns.countplot(data['kills'].astype('str').sort_values())\n",
        "plt.title(\"Kill Count\",fontsize=14)\n",
        "plt.show()"
      ],
      "execution_count": 0,
      "outputs": []
    },
    {
      "cell_type": "markdown",
      "metadata": {
        "colab_type": "text",
        "id": "wWLu2vLjui31"
      },
      "source": [
        "It seems most of the people cannot even make a single kill. But atleast they deal with some damage"
      ]
    },
    {
      "cell_type": "code",
      "metadata": {
        "colab_type": "code",
        "id": "I-M_rSNmS-fr",
        "colab": {}
      },
      "source": [
        "data = train.copy()\n",
        "data = data[data['kills']==0]\n",
        "plt.figure(figsize=(15,8))\n",
        "plt.title(\"Damage Dealt by 0 killers\",fontsize=15)\n",
        "sns.distplot(data['damageDealt'])\n",
        "plt.show()"
      ],
      "execution_count": 0,
      "outputs": []
    },
    {
      "cell_type": "markdown",
      "metadata": {
        "colab_type": "text",
        "id": "MER6wUW2vE7y"
      },
      "source": [
        "Well there are few people who win without even making a single kill or dealing with damage.\n"
      ]
    },
    {
      "cell_type": "code",
      "metadata": {
        "colab_type": "code",
        "id": "PeIaIi8XTZUx",
        "colab": {}
      },
      "source": [
        "print(\"A total of {} players ({:.4f}%) have won without a single kill!\".format(len(data[data['winPlacePerc']==1]), 100*len(data[data['winPlacePerc']==1])/len(train)))\n",
        "data1 = train[train['damageDealt'] == 0].copy()\n",
        "print(\"A total of {} players ({:.4f}%) have won without dealing damage!\".format(len(data1[data1['winPlacePerc']==1]), 100*len(data1[data1['winPlacePerc']==1])/len(train)))"
      ],
      "execution_count": 0,
      "outputs": []
    },
    {
      "cell_type": "markdown",
      "metadata": {
        "colab_type": "text",
        "id": "lvCNocFPksaw"
      },
      "source": [
        "###Effect of Killing on Winning percentage"
      ]
    },
    {
      "cell_type": "markdown",
      "metadata": {
        "colab_type": "text",
        "id": "UdHpVd9Pv2PB"
      },
      "source": [
        "As shown below by the increasing mean of win percentage placement, we found that kill count was correlated with our target variable, which makes sense because **more kills usually means a player is better skilled and will rank closer to the top**."
      ]
    },
    {
      "cell_type": "code",
      "metadata": {
        "colab_type": "code",
        "id": "qmEhYn5wTfW0",
        "colab": {}
      },
      "source": [
        "kills = train.copy()\n",
        "\n",
        "kills['killsCategories'] = pd.cut(kills['kills'], [-1, 0, 2, 5, 10, 60], labels=['0_kills','1-2_kills', '3-5_kills', '6-10_kills', '10+_kills'])\n",
        "\n",
        "plt.figure(figsize=(15,8))\n",
        "sns.boxplot(x=\"killsCategories\", y=\"winPlacePerc\", data=kills)\n",
        "plt.show()"
      ],
      "execution_count": 0,
      "outputs": []
    },
    {
      "cell_type": "markdown",
      "metadata": {
        "colab_type": "text",
        "id": "OoxJRB0ekFq4"
      },
      "source": [
        "**Inference:** *kills* has a high correlation with *winPlacePerc*."
      ]
    },
    {
      "cell_type": "markdown",
      "metadata": {
        "colab_type": "text",
        "id": "BICdghv1bbAW"
      },
      "source": [
        "## Analysing Running"
      ]
    },
    {
      "cell_type": "markdown",
      "metadata": {
        "colab_type": "text",
        "id": "VFDT4PWdBBX-"
      },
      "source": [
        "![alt text](https://cdn.dribbble.com/users/1373613/screenshots/5419266/______-__.gif)"
      ]
    },
    {
      "cell_type": "code",
      "metadata": {
        "colab_type": "code",
        "id": "_XHYo_Ghbo8h",
        "colab": {}
      },
      "source": [
        "print(\"{} players ({:.4f}%) walked 0 meters. This means that either they die before even taking a step or they have just joined the game but are away from keyboard (more possible).\".format(len(data[data['walkDistance'] == 0]), 100*len(data1[data1['walkDistance']==0])/len(train)))"
      ],
      "execution_count": 0,
      "outputs": []
    },
    {
      "cell_type": "code",
      "metadata": {
        "colab_type": "code",
        "id": "2lFaoX2icZ-s",
        "colab": {}
      },
      "source": [
        "data = train.copy()\n",
        "data = data[data['walkDistance'] < train['walkDistance'].quantile(0.99)]\n",
        "plt.figure(figsize=(15,10))\n",
        "plt.title(\"Walking Distance Distribution\",fontsize=15)\n",
        "sns.distplot(data['walkDistance'])\n",
        "plt.show()"
      ],
      "execution_count": 0,
      "outputs": []
    },
    {
      "cell_type": "markdown",
      "metadata": {
        "colab_type": "text",
        "id": "5BX-a0pWkdAP"
      },
      "source": [
        "### Analysing Running: Effect of Running on Winning Percentage"
      ]
    },
    {
      "cell_type": "markdown",
      "metadata": {
        "colab_type": "text",
        "id": "MsmIt4i1jdcD"
      },
      "source": [
        "\n",
        "The scatter plot below indicates there is a high correlation between running and winning percentage. This isn’t something new since the **longer you’re alive, the more you run and more is the chance of winning**."
      ]
    },
    {
      "cell_type": "markdown",
      "metadata": {
        "colab_type": "text",
        "id": "-yKFTPuE0Pkl"
      },
      "source": [
        "###jointplot\n",
        "A *marginal plot* or *joint plot* allows to study the relationship between 2 numeric variables. The central chart display their correlation. It is usually a scatterplot, a hexbin plot, a 2D histogram or a 2D density plot. The marginal charts, usually at the top and at the right, show the distribution of the 2 variables using histogram or density plot."
      ]
    },
    {
      "cell_type": "code",
      "metadata": {
        "colab_type": "code",
        "id": "l-bM324Nf85F",
        "colab": {}
      },
      "source": [
        "sns.jointplot(x=\"winPlacePerc\", y=\"walkDistance\",  data=train, height=10, ratio=3, color=\"lime\")\n",
        "plt.show()"
      ],
      "execution_count": 0,
      "outputs": []
    },
    {
      "cell_type": "markdown",
      "metadata": {
        "colab_type": "text",
        "id": "S2Vvqg_dj5oz"
      },
      "source": [
        "**Inference:** *Walking* has a high correlation with *winPlacePerc*."
      ]
    },
    {
      "cell_type": "markdown",
      "metadata": {
        "colab_type": "text",
        "id": "6pkF94AHk6hv"
      },
      "source": [
        "## Analysing Riding"
      ]
    },
    {
      "cell_type": "code",
      "metadata": {
        "colab_type": "code",
        "id": "trknitQIk89o",
        "colab": {}
      },
      "source": [
        "print(\"An average person drives for {:.1f}m, 99% of people have drived {}m or less, while THE RIDER rode for {}m.\".format(train['rideDistance'].mean(), train['rideDistance'].quantile(0.99), train['rideDistance'].max()))"
      ],
      "execution_count": 0,
      "outputs": []
    },
    {
      "cell_type": "code",
      "metadata": {
        "colab_type": "code",
        "id": "ZFTGbyrmlFYa",
        "colab": {}
      },
      "source": [
        "data = train.copy()\n",
        "data = data[data['rideDistance'] < train['rideDistance'].quantile(0.99)]\n",
        "plt.figure(figsize=(15,8))\n",
        "plt.title(\"Ride Distance Distribution\",fontsize=15)\n",
        "sns.distplot(data['rideDistance'])\n",
        "plt.show()"
      ],
      "execution_count": 0,
      "outputs": []
    },
    {
      "cell_type": "code",
      "metadata": {
        "colab_type": "code",
        "id": "rsjpPaD5mG5c",
        "colab": {}
      },
      "source": [
        "print(\"{} players ({:.4f}%) drived for 0 meters. This means that they like trekking more than riding.\".format(len(data[data['rideDistance'] == 0]), 100*len(data1[data1['rideDistance']==0])/len(train)))"
      ],
      "execution_count": 0,
      "outputs": []
    },
    {
      "cell_type": "markdown",
      "metadata": {
        "colab_type": "text",
        "id": "BQKqJd7bbjCE"
      },
      "source": [
        "## Analysing Riding: Effect of Riding on Winning Percentage"
      ]
    },
    {
      "cell_type": "markdown",
      "metadata": {
        "colab_type": "text",
        "id": "voTYUBk1n_TC"
      },
      "source": [
        "The scatter plot below indicates there is a small correlation between driving and winning."
      ]
    },
    {
      "cell_type": "code",
      "metadata": {
        "colab_type": "code",
        "id": "lfJNZ6YZmdAx",
        "colab": {}
      },
      "source": [
        "sns.jointplot(x=\"winPlacePerc\", y=\"rideDistance\", data=train, height=10, ratio=3, color=\"y\")\n",
        "plt.show()"
      ],
      "execution_count": 0,
      "outputs": []
    },
    {
      "cell_type": "markdown",
      "metadata": {
        "colab_type": "text",
        "id": "xQf9SFxsujL2"
      },
      "source": [
        "Theoretically, if a player is able to destroy the vehicle it indicates the he/she is skilled. Let's check if this theory is correct."
      ]
    },
    {
      "cell_type": "code",
      "metadata": {
        "colab_type": "code",
        "id": "dDV0DVqDuhzf",
        "colab": {}
      },
      "source": [
        "f,ax1 = plt.subplots(figsize =(15,8))\n",
        "sns.pointplot(x='vehicleDestroys',y='winPlacePerc',data=data,color='lime',alpha=0.5)\n",
        "plt.xlabel('Count of Vehicle Destroys',fontsize = 16,color='blue')\n",
        "plt.ylabel('Win Percentage',fontsize = 16,color='blue')\n",
        "plt.title('Vehicle Destroyed/ Win Ratio',fontsize = 20,color='blue')\n",
        "plt.grid()\n",
        "plt.show()"
      ],
      "execution_count": 0,
      "outputs": []
    },
    {
      "cell_type": "markdown",
      "metadata": {
        "colab_type": "text",
        "id": "CniTdQQ7lA4B"
      },
      "source": [
        "**Inference:** Destroying vehicles increases your chances of winning!"
      ]
    },
    {
      "cell_type": "markdown",
      "metadata": {
        "colab_type": "text",
        "id": "c_GYP7PovUl-"
      },
      "source": [
        "## Analysing Healing and Boosting"
      ]
    },
    {
      "cell_type": "code",
      "metadata": {
        "colab_type": "code",
        "id": "ldOHkQIZvXDz",
        "colab": {}
      },
      "source": [
        "print(\"In the game on an average a person uses {:.1f} heal items, 99% of people use {} or less, while the doctor used {}.\".format(train['heals'].mean(), train['heals'].quantile(0.99), train['heals'].max()))\n",
        "print(\"In the game on an average a person uses {:.1f} boost items, 99% of people use {} or less, while the doctor used {}.\".format(train['boosts'].mean(), train['boosts'].quantile(0.99), train['boosts'].max()))"
      ],
      "execution_count": 0,
      "outputs": []
    },
    {
      "cell_type": "markdown",
      "metadata": {
        "colab_type": "text",
        "id": "xXCWcc8Ex9Tc"
      },
      "source": [
        "\n",
        "## Analysing Healing and Boosting: Effect of Healing & Boosting on Winning Percentage"
      ]
    },
    {
      "cell_type": "code",
      "metadata": {
        "colab_type": "code",
        "id": "Qrboaj-XvcRG",
        "colab": {}
      },
      "source": [
        "data = train.copy()\n",
        "data = data[data['heals'] < data['heals'].quantile(0.99)]\n",
        "data = data[data['boosts'] < data['boosts'].quantile(0.99)]\n",
        "\n",
        "f,ax1 = plt.subplots(figsize =(15,8))\n",
        "sns.pointplot(x='heals',y='winPlacePerc',data=data,color='lime',alpha=0.8)\n",
        "sns.pointplot(x='boosts',y='winPlacePerc',data=data,color='blue',alpha=0.8)\n",
        "plt.text(4,0.6,'Heals',color='lime',fontsize = 16,style = 'italic')\n",
        "plt.text(4,0.55,'Boosts',color='blue',fontsize = 16,style = 'italic')\n",
        "plt.xlabel('Number of heal/boost items',fontsize = 16,color='blue')\n",
        "plt.ylabel('Win Percentage',fontsize = 16,color='blue')\n",
        "plt.title('Heals vs Boosts',fontsize = 20,color='blue')\n",
        "plt.grid()\n",
        "plt.show()"
      ],
      "execution_count": 0,
      "outputs": []
    },
    {
      "cell_type": "code",
      "metadata": {
        "colab_type": "code",
        "id": "eKwAMbSAx4Ia",
        "colab": {}
      },
      "source": [
        "sns.jointplot(x=\"winPlacePerc\", y=\"heals\", data=train, height=10, ratio=3, color=\"lime\")\n",
        "plt.show()"
      ],
      "execution_count": 0,
      "outputs": []
    },
    {
      "cell_type": "code",
      "metadata": {
        "colab_type": "code",
        "id": "Y_ubvw0-x6Kj",
        "colab": {}
      },
      "source": [
        "sns.jointplot(x=\"winPlacePerc\", y=\"boosts\", data=train, height=10, ratio=3, color=\"blue\")\n",
        "plt.show()"
      ],
      "execution_count": 0,
      "outputs": []
    },
    {
      "cell_type": "markdown",
      "metadata": {
        "colab_type": "text",
        "id": "ApjsBWLuyr4n"
      },
      "source": [
        "**Inference:** Both healing and boosts have a high correlation with winning, however boosts matter more. Both the plots shows abnormal behaviour at 0\n"
      ]
    },
    {
      "cell_type": "markdown",
      "metadata": {
        "colab_type": "text",
        "id": "wwP8D23q04k0"
      },
      "source": [
        "##Effect of Killing in different Game type: Solo, Duos and Squad on Winning Percentage"
      ]
    },
    {
      "cell_type": "code",
      "metadata": {
        "colab_type": "code",
        "id": "2SD4uHj308R4",
        "colab": {}
      },
      "source": [
        "solos = train[train['numGroups']>50] #Solo game played by more than 50 different groups\n",
        "duos = train[(train['numGroups']>25) & (train['numGroups']<=50)] #Duo game can consist of a maximum of 50 groups(50x2=100) \n",
        "squads = train[train['numGroups']<=25] # Squad game can consist a maximum of 25 groups(25x4=100)\n",
        "print(\"{} ({:.2f}%) of games are solo, {} ({:.2f}%) are duo and {} ({:.2f}%) are squad games.\".format(len(solos), 100*len(solos)/len(train), len(duos), 100*len(duos)/len(train), len(squads), 100*len(squads)/len(train),))"
      ],
      "execution_count": 0,
      "outputs": []
    },
    {
      "cell_type": "code",
      "metadata": {
        "colab_type": "code",
        "id": "AhdDmtIl1JLR",
        "colab": {}
      },
      "source": [
        "f,ax1 = plt.subplots(figsize =(20,10))\n",
        "sns.pointplot(x='kills',y='winPlacePerc',data=solos,color='black',alpha=0.6)\n",
        "sns.pointplot(x='kills',y='winPlacePerc',data=duos,color='red',alpha=0.6)\n",
        "sns.pointplot(x='kills',y='winPlacePerc',data=squads,color='blue',alpha=0.6)\n",
        "plt.text(14,0.5,'Solos',color='black',fontsize = 16)\n",
        "plt.text(14,0.45,'Duos',color='red',fontsize = 16)\n",
        "plt.text(14,0.4,'Squads',color='blue',fontsize = 16)\n",
        "plt.xlabel('Number of kills',fontsize = 15,color='blue')\n",
        "plt.ylabel('Win Percentage',fontsize = 15,color='blue')\n",
        "plt.title('Solo vs Duo vs Squad Kills',fontsize = 20,color='blue')\n",
        "plt.grid()\n",
        "plt.show()"
      ],
      "execution_count": 0,
      "outputs": []
    },
    {
      "cell_type": "markdown",
      "metadata": {
        "colab_type": "text",
        "id": "HHRbkMe81jpv"
      },
      "source": [
        "**Inference:** Solos and duos behave the same, but when playing squads kills don't matter that much."
      ]
    },
    {
      "cell_type": "markdown",
      "metadata": {
        "colab_type": "text",
        "id": "qkxr1B-b1Vky"
      },
      "source": [
        "##Effect of Knocking (DBNO), Assisting or Reviving on Winning Percentage"
      ]
    },
    {
      "cell_type": "markdown",
      "metadata": {
        "colab_type": "text",
        "id": "gcuqdEtu1Vf2"
      },
      "source": [
        "The attribute DBNOs means enemy players knocked. A \"knock\" can happen only in duos or squads, because the teammates have the chance to \"revive\" the knocked player in a given time. So a knocked player can be revived or die. If he is revived, the next time he will be knocked, his teammates will have less time to revive him.\n",
        "\n",
        "The attribute assist can also happen only in duos or squads. It generally means that the player had an involvement in a kill.\n",
        "\n",
        "The attribute revive also happens in duos or squads"
      ]
    },
    {
      "cell_type": "code",
      "metadata": {
        "colab_type": "code",
        "id": "_i9kHud0XRt_",
        "colab": {}
      },
      "source": [
        "\"\"\"\n",
        "This is a part of the assignment\n",
        "Q:\tWhat is the effect of Knocking (DBNO), Assisting or Reviving on Winning Percentage?\n",
        "Hint: Build a joint plot\n",
        "\n",
        "Write your code here\n",
        "\n",
        "\"\"\"\n"
      ],
      "execution_count": 0,
      "outputs": []
    },
    {
      "cell_type": "markdown",
      "metadata": {
        "colab_type": "text",
        "id": "dqy62c0JZcuc"
      },
      "source": [
        "#Part 2: Data Cleaning: Outlier Detection and Removal - Finding the fraudsters"
      ]
    },
    {
      "cell_type": "markdown",
      "metadata": {
        "colab_type": "text",
        "id": "O8KMnEoWpAvv"
      },
      "source": [
        "## Outliers: How do we catch the fraudsters in the game?"
      ]
    },
    {
      "cell_type": "markdown",
      "metadata": {
        "colab_type": "text",
        "id": "Otht9j77QtVo"
      },
      "source": [
        "###Illegal Match"
      ]
    },
    {
      "cell_type": "code",
      "metadata": {
        "colab_type": "code",
        "id": "oqCZtZL3Qs9A",
        "colab": {}
      },
      "source": [
        "# Check row with NaN value\n",
        "train[train['winPlacePerc'].isnull()]"
      ],
      "execution_count": 0,
      "outputs": []
    },
    {
      "cell_type": "code",
      "metadata": {
        "colab_type": "code",
        "id": "4yvHADhGTyr5",
        "colab": {}
      },
      "source": [
        "train.drop(train[train['winPlacePerc'].isnull()].index, inplace=True)"
      ],
      "execution_count": 0,
      "outputs": []
    },
    {
      "cell_type": "code",
      "metadata": {
        "colab_type": "code",
        "id": "xv2vX6Z3T5l3",
        "colab": {}
      },
      "source": [
        "train.shape"
      ],
      "execution_count": 0,
      "outputs": []
    },
    {
      "cell_type": "markdown",
      "metadata": {
        "colab_type": "text",
        "id": "BuXmoO_zqYde"
      },
      "source": [
        "## Anomalies in Killing: Aim Hacks\n",
        "\n",
        "> **Battleground Aimbots**The use of automated aiming software is without a doubt one of the most powerful cheats that can be used in Playerunknowns Battlegrounds at this time. It allows players to bind a key or mouse button to an auto aim and lock on function that will automatically target any ememy in line of sight. If you are playing duo or in a group, group members will not trigger this function. A trigger bot can then be set to automatically shoot for you or you can chose to shoot yourself.\n",
        "\n"
      ]
    },
    {
      "cell_type": "markdown",
      "metadata": {
        "colab_type": "text",
        "id": "_LV0aFBpyotO"
      },
      "source": [
        "Calculating the totalDistance travelled by a player which is the sum total of rideDistance, walkDistance adn swimDistance"
      ]
    },
    {
      "cell_type": "code",
      "metadata": {
        "colab_type": "code",
        "id": "RShOpjHKxaem",
        "colab": {}
      },
      "source": [
        "# Engineer a new feature _totalDistance\n",
        "train['_totalDistance'] = train['rideDistance'] + train['walkDistance'] + train['swimDistance']"
      ],
      "execution_count": 0,
      "outputs": []
    },
    {
      "cell_type": "markdown",
      "metadata": {
        "colab_type": "text",
        "id": "jFJ2dJYL8xsg"
      },
      "source": [
        "Create a new feature 'headshot_rate'. We see that the most players score in the 0 to 10% region. However, there are a few anomalies that have a headshot_rate of 100% percent with more than 9 kills!"
      ]
    },
    {
      "cell_type": "code",
      "metadata": {
        "colab_type": "code",
        "id": "pIhHSpwhZl79",
        "colab": {}
      },
      "source": [
        "# Engineer _headshot_rate feature --- headshots made per kill\n",
        "train['_headshot_rate'] = train['headshotKills'] / train['kills']\n",
        "train['_headshot_rate'] = train['_headshot_rate'].fillna(0)"
      ],
      "execution_count": 0,
      "outputs": []
    },
    {
      "cell_type": "code",
      "metadata": {
        "colab_type": "code",
        "id": "kbPXS78PwNnk",
        "colab": {}
      },
      "source": [
        "#Defining some functions for plotting graphs, we will be needing a lot of countplot and distplot\n",
        "def show_countplot(column):\n",
        "    plt.figure(figsize=(15,8))\n",
        "    sns.countplot(data=train, x=column).set_title(column)\n",
        "    plt.show()\n",
        "    \n",
        "def show_distplot(column):\n",
        "    plt.figure(figsize=(15, 8))\n",
        "    sns.distplot(train[column], bins=50)\n",
        "    plt.show()"
      ],
      "execution_count": 0,
      "outputs": []
    },
    {
      "cell_type": "markdown",
      "metadata": {
        "colab_type": "text",
        "id": "9Dz8_pRNwAS7"
      },
      "source": [
        "### Inhumane kills"
      ]
    },
    {
      "cell_type": "markdown",
      "metadata": {
        "colab_type": "text",
        "id": "v4BMOulkpLyB"
      },
      "source": [
        "Some rows in our dataset have weird characteristics. The players could be fraudsters, maniacs or just anomalies. Removing these outliers will likely improve results."
      ]
    },
    {
      "cell_type": "markdown",
      "metadata": {
        "colab_type": "text",
        "id": "XxcsprdV7l8q"
      },
      "source": [
        "Let's take a look at the players who make these shots."
      ]
    },
    {
      "cell_type": "code",
      "metadata": {
        "colab_type": "code",
        "id": "kVYmXA6RTo9k",
        "colab": {}
      },
      "source": [
        "show_countplot('kills')"
      ],
      "execution_count": 0,
      "outputs": []
    },
    {
      "cell_type": "code",
      "metadata": {
        "colab_type": "code",
        "id": "eYWbNC77wVYH",
        "colab": {}
      },
      "source": [
        "# Is it even possible to kill more than 40 people by acquiring more than 55 weapons and maintaining a total distance of less than 100m?\n",
        "train[(train['kills'] >= 40) & (train['weaponsAcquired'] > 55) & (train['_totalDistance'] < 100.0)]"
      ],
      "execution_count": 0,
      "outputs": []
    },
    {
      "cell_type": "code",
      "metadata": {
        "colab_type": "code",
        "id": "8UuX_jwnV8wW",
        "colab": {}
      },
      "source": [
        "# Is it even possible to kill more than 40 people without using any heals?\n",
        "train[(train['kills'] >= 40) & (train['heals'] == 0)]"
      ],
      "execution_count": 0,
      "outputs": []
    },
    {
      "cell_type": "code",
      "metadata": {
        "colab_type": "code",
        "id": "jG5uJi1I4b6C",
        "colab": {}
      },
      "source": [
        "# Drop 'fraudsters' with inhumane kill counts\n",
        "train.drop(train[(train['kills'] >= 40) & (train['weaponsAcquired'] > 55) & (train['_totalDistance'] < 100.0)].index, inplace=True)\n",
        "train.drop(train[(train['kills'] >= 40) & (train['heals'] == 0)].index, inplace=True)"
      ],
      "execution_count": 0,
      "outputs": []
    },
    {
      "cell_type": "markdown",
      "metadata": {
        "colab_type": "text",
        "id": "EVfFmcor5OZT"
      },
      "source": [
        "### 100% Headshot Kills\n"
      ]
    },
    {
      "cell_type": "code",
      "metadata": {
        "colab_type": "code",
        "id": "eE9FRHuT5lLE",
        "colab": {}
      },
      "source": [
        "# Plot the distribution of headshot_rate\n",
        "show_distplot('_headshot_rate')"
      ],
      "execution_count": 0,
      "outputs": []
    },
    {
      "cell_type": "code",
      "metadata": {
        "colab_type": "code",
        "id": "rnHkyZXb6NFn",
        "colab": {}
      },
      "source": [
        "# List of Hitman who made more than 10 kills and all the kills were done by headshot(perfect kill)\n",
        "display(train[(train['_headshot_rate'] == 1) & (train['kills'] >=10)].shape)\n",
        "train[(train['_headshot_rate'] == 1) & (train['kills'] >= 10)].head(10)"
      ],
      "execution_count": 0,
      "outputs": []
    },
    {
      "cell_type": "markdown",
      "metadata": {
        "colab_type": "text",
        "id": "imQTFutD6Xmn"
      },
      "source": [
        "It is unclear if these players are cheating or are they legends. So, for now we are not deleting these players from the dataset. \n"
      ]
    },
    {
      "cell_type": "markdown",
      "metadata": {
        "colab_type": "text",
        "id": "U74lvRpTyjUj"
      },
      "source": [
        "###Killing without Moving\n",
        "Identify the fraudsters who can making kills without even moving. So for this  we first identify the totalDistance travelled by a player and then set a boolean value to True if someone got kills without even moving a single inch. "
      ]
    },
    {
      "cell_type": "code",
      "metadata": {
        "colab_type": "code",
        "id": "Phz_1OL0zbIh",
        "colab": {}
      },
      "source": [
        "# Create feature killsWithoutMoving\n",
        "train['_killsWithoutMoving'] = ((train['kills'] > 0) & (train['_totalDistance'] == 0))\n",
        "# Check players who kills without moving\n",
        "display(train[train['_killsWithoutMoving'] == True].shape)\n",
        "train[train['_killsWithoutMoving'] == True].head(10)"
      ],
      "execution_count": 0,
      "outputs": []
    },
    {
      "cell_type": "code",
      "metadata": {
        "colab_type": "code",
        "id": "4BtyTa814MWM",
        "colab": {}
      },
      "source": [
        "# Drop kill without moving 'fraudsters'\n",
        "train.drop(train[train['_killsWithoutMoving'] == True].index, inplace=True)"
      ],
      "execution_count": 0,
      "outputs": []
    },
    {
      "cell_type": "markdown",
      "metadata": {
        "colab_type": "text",
        "id": "D_ICgS-G0fmx"
      },
      "source": [
        "###Longest Kill"
      ]
    },
    {
      "cell_type": "markdown",
      "metadata": {
        "colab_type": "text",
        "id": "5cogDMf-6jsS"
      },
      "source": [
        "Most kills are made from a distance of 100 meters or closer. However there are some players (outliers) who make a kill from more than 1km away. These players are probably fraudsters."
      ]
    },
    {
      "cell_type": "code",
      "metadata": {
        "colab_type": "code",
        "id": "bipBerPI0idZ",
        "colab": {}
      },
      "source": [
        "show_distplot('longestKill')"
      ],
      "execution_count": 0,
      "outputs": []
    },
    {
      "cell_type": "markdown",
      "metadata": {
        "colab_type": "text",
        "id": "Up0UONHK0qaw"
      },
      "source": [
        "Is it even posssible to snipe (kill) someone from a distance > 1Km in this game?\n",
        "\n",
        "Let's take a look at the players who took these shots."
      ]
    },
    {
      "cell_type": "code",
      "metadata": {
        "colab_type": "code",
        "id": "gqx4HtYQ00HA",
        "colab": {}
      },
      "source": [
        "train[train['longestKill'] >= 1000]"
      ],
      "execution_count": 0,
      "outputs": []
    },
    {
      "cell_type": "code",
      "metadata": {
        "colab_type": "code",
        "id": "AzCiUUW136FA",
        "colab": {}
      },
      "source": [
        "# Drop longestKill 'fraudsters'\n",
        "train.drop(train[train['longestKill'] >= 1000].index, inplace=True)"
      ],
      "execution_count": 0,
      "outputs": []
    },
    {
      "cell_type": "markdown",
      "metadata": {
        "colab_type": "text",
        "id": "KFP0SJcJ1hBL"
      },
      "source": [
        "###Road Kills"
      ]
    },
    {
      "cell_type": "code",
      "metadata": {
        "colab_type": "code",
        "id": "Xr7NiZQm1kkA",
        "colab": {}
      },
      "source": [
        "# Players who got more than 10 roadKills\n",
        "train[train['roadKills'] > 10]"
      ],
      "execution_count": 0,
      "outputs": []
    },
    {
      "cell_type": "markdown",
      "metadata": {
        "colab_type": "text",
        "id": "YbhKn9fX3UCz"
      },
      "source": [
        "Did you noticed how c3e444f7d1289f rode just 5 meters but has killed 14 players in the roadkill. Got LUCKY or just another anomaly?"
      ]
    },
    {
      "cell_type": "code",
      "metadata": {
        "colab_type": "code",
        "id": "aeS6yz-330BN",
        "colab": {}
      },
      "source": [
        "# Drop roadKill 'fraudsters'\n",
        "train.drop(train[train['roadKills'] > 10].index, inplace=True)"
      ],
      "execution_count": 0,
      "outputs": []
    },
    {
      "cell_type": "markdown",
      "metadata": {
        "colab_type": "text",
        "id": "MKFEno0-uvuV"
      },
      "source": [
        "## Finding anomaly in travelling"
      ]
    },
    {
      "cell_type": "markdown",
      "metadata": {
        "colab_type": "text",
        "id": "ucOKsmrOOfJ0"
      },
      "source": [
        " PUBG map is 8*8 km and each yellow square represents 1km.\n",
        "![alt text](https://gamepedia.cursecdn.com/battlegrounds_gamepedia_en/thumb/e/ea/Map.jpg/800px-Map.jpg?version=928379c81f738c9cd92cef477c46f8c3)"
      ]
    },
    {
      "cell_type": "code",
      "metadata": {
        "colab_type": "code",
        "id": "6tAeCUMYBQi7",
        "colab": {}
      },
      "source": [
        "train[['walkDistance', 'rideDistance', 'swimDistance']].describe()"
      ],
      "execution_count": 0,
      "outputs": []
    },
    {
      "cell_type": "markdown",
      "metadata": {
        "colab_type": "text",
        "id": "lJeJl3O_FzCE"
      },
      "source": [
        "###Detecting Anomalies in Walking\n"
      ]
    },
    {
      "cell_type": "code",
      "metadata": {
        "colab_type": "code",
        "id": "RQg170Q0CpFg",
        "colab": {}
      },
      "source": [
        "show_distplot('walkDistance')"
      ],
      "execution_count": 0,
      "outputs": []
    },
    {
      "cell_type": "code",
      "metadata": {
        "colab_type": "code",
        "id": "Ki_Xpj82DDYb",
        "colab": {}
      },
      "source": [
        "#Travel Lust and Wandrer ---> They just play to roam around and explore places without killing anyone and how can they travel 13kms in the game?\n",
        "train[(train['walkDistance'] >= 13000) & (train['kills'] == 0)]"
      ],
      "execution_count": 0,
      "outputs": []
    },
    {
      "cell_type": "code",
      "metadata": {
        "colab_type": "code",
        "id": "Wd9EAOdO4588",
        "colab": {}
      },
      "source": [
        "# Drop walking anomalies\n",
        "train.drop(train[(train['walkDistance'] >= 13000) & (train['kills'] == 0)].index, inplace=True)"
      ],
      "execution_count": 0,
      "outputs": []
    },
    {
      "cell_type": "markdown",
      "metadata": {
        "colab_type": "text",
        "id": "peXBdIcYG2C-"
      },
      "source": [
        "![](https://i.imgur.com/YkvnR9s.gif)"
      ]
    },
    {
      "cell_type": "markdown",
      "metadata": {
        "colab_type": "text",
        "id": "QjZtRpJUF-tm"
      },
      "source": [
        "###Detecting Anomalies in Riding"
      ]
    },
    {
      "cell_type": "code",
      "metadata": {
        "colab_type": "code",
        "id": "f5HTZhF8DQ8o",
        "colab": {}
      },
      "source": [
        "show_distplot('rideDistance')"
      ],
      "execution_count": 0,
      "outputs": []
    },
    {
      "cell_type": "code",
      "metadata": {
        "colab_type": "code",
        "id": "O5dXCRjTD7eO",
        "colab": {}
      },
      "source": [
        "#Travel Lust and Wandrer ---> They just play to roam around and explore places without killing anyone - How can you ride for 30km?\n",
        "train[(train['rideDistance'] >= 30000) & (train['kills'] == 0)]"
      ],
      "execution_count": 0,
      "outputs": []
    },
    {
      "cell_type": "code",
      "metadata": {
        "colab_type": "code",
        "id": "syQStYJO36U4",
        "colab": {}
      },
      "source": [
        "# How is it even possible that a player is able to ride and kill without walking even a single meter ?\n",
        "train[(train['walkDistance'] == 0) & (train['rideDistance'] > 0) & (train['kills'] > 0)]"
      ],
      "execution_count": 0,
      "outputs": []
    },
    {
      "cell_type": "code",
      "metadata": {
        "colab_type": "code",
        "id": "M61Y912B6GBq",
        "colab": {}
      },
      "source": [
        "# What was the player doing in the game when total distance travelled by him/her is 0? \n",
        "train[(train['_totalDistance'] == 0)]"
      ],
      "execution_count": 0,
      "outputs": []
    },
    {
      "cell_type": "code",
      "metadata": {
        "colab_type": "code",
        "id": "m1SIVLHy907D",
        "colab": {}
      },
      "source": [
        "# Drop riding anomalies\n",
        "train.drop(train[(train['rideDistance'] >= 30000) & (train['kills'] == 0)].index, inplace = True)\n",
        "train.drop(train[(train['walkDistance'] == 0) & (train['rideDistance'] > 0) & (train['kills'] > 0)].index, inplace = True)\n",
        "train.drop(train[(train['_totalDistance'] == 0)].index, inplace=True)"
      ],
      "execution_count": 0,
      "outputs": []
    },
    {
      "cell_type": "markdown",
      "metadata": {
        "colab_type": "text",
        "id": "po2EbO83FEwW"
      },
      "source": [
        "![alt text](https://media.giphy.com/media/qlCFjkSruesco/giphy.gif)"
      ]
    },
    {
      "cell_type": "markdown",
      "metadata": {
        "colab_type": "text",
        "id": "RcE5yC97rdFL"
      },
      "source": [
        "###Swim Distance"
      ]
    },
    {
      "cell_type": "code",
      "metadata": {
        "colab_type": "code",
        "id": "U1UBASYxrgKr",
        "colab": {}
      },
      "source": [
        "show_distplot('swimDistance')"
      ],
      "execution_count": 0,
      "outputs": []
    },
    {
      "cell_type": "code",
      "metadata": {
        "colab_type": "code",
        "id": "GcAD7RfL4D_f",
        "colab": {}
      },
      "source": [
        "# How can you swim for more than 2 km without breathing?\n",
        "train[train['swimDistance'] >= 2000]"
      ],
      "execution_count": 0,
      "outputs": []
    },
    {
      "cell_type": "code",
      "metadata": {
        "colab_type": "code",
        "id": "6hW6eT2z4WWd",
        "colab": {}
      },
      "source": [
        "# Remove outliers\n",
        "train.drop(train[train['swimDistance'] >= 2000].index, inplace=True)"
      ],
      "execution_count": 0,
      "outputs": []
    },
    {
      "cell_type": "markdown",
      "metadata": {
        "colab_type": "text",
        "id": "job27Gx24bhY"
      },
      "source": [
        "![](https://i.imgur.com/hxbfBFI.gif)"
      ]
    },
    {
      "cell_type": "markdown",
      "metadata": {
        "colab_type": "text",
        "id": "34_DJVjkBOA2"
      },
      "source": [
        "## Anomalies detection in Supplies (WeaponAcquired)\n",
        "\n",
        "> Most people acquire between 0 and 10 weapons in a game, but you also see some people acquire more than 80 weapons! Let's check these guys out."
      ]
    },
    {
      "cell_type": "code",
      "metadata": {
        "colab_type": "code",
        "id": "hxk3SScS6hcM",
        "colab": {}
      },
      "source": [
        "show_distplot('weaponsAcquired')"
      ],
      "execution_count": 0,
      "outputs": []
    },
    {
      "cell_type": "code",
      "metadata": {
        "colab_type": "code",
        "id": "JFK-oScZ8pWp",
        "colab": {}
      },
      "source": [
        "display(train[train['weaponsAcquired'] >= 80].shape)\n",
        "train[train['weaponsAcquired'] >= 80].head()"
      ],
      "execution_count": 0,
      "outputs": []
    },
    {
      "cell_type": "markdown",
      "metadata": {
        "colab_type": "text",
        "id": "hM7sK3e69jWg"
      },
      "source": [
        "player 7c8c83f5f97d0f acquired 128 weapons in one game!"
      ]
    },
    {
      "cell_type": "code",
      "metadata": {
        "colab_type": "code",
        "id": "W-mrCoo89SYp",
        "colab": {}
      },
      "source": [
        "# Remove outliers\n",
        "train.drop(train[train['weaponsAcquired'] >= 80].index, inplace=True)"
      ],
      "execution_count": 0,
      "outputs": []
    },
    {
      "cell_type": "markdown",
      "metadata": {
        "colab_type": "text",
        "id": "9h7KLt5U-Y5Z"
      },
      "source": [
        "##Anomalies in Heals"
      ]
    },
    {
      "cell_type": "markdown",
      "metadata": {
        "colab_type": "text",
        "id": "3wgwOUeE-gJH"
      },
      "source": [
        "Most players us 5 healing items or less. We can again recognize some weird anomalies"
      ]
    },
    {
      "cell_type": "code",
      "metadata": {
        "colab_type": "code",
        "id": "0zRuF0Mz90Po",
        "colab": {}
      },
      "source": [
        "show_distplot('heals')"
      ],
      "execution_count": 0,
      "outputs": []
    },
    {
      "cell_type": "code",
      "metadata": {
        "colab_type": "code",
        "id": "0yIdreYI-sL3",
        "colab": {}
      },
      "source": [
        "# 40 or more healing items used\n",
        "display(train[train['heals'] >= 40].shape)\n",
        "train[train['heals'] >= 40].head(10)"
      ],
      "execution_count": 0,
      "outputs": []
    },
    {
      "cell_type": "code",
      "metadata": {
        "colab_type": "code",
        "id": "m6alQtCl-4Pa",
        "colab": {}
      },
      "source": [
        "# Remove outliers\n",
        "train.drop(train[train['heals'] >= 40].index, inplace=True)"
      ],
      "execution_count": 0,
      "outputs": []
    },
    {
      "cell_type": "markdown",
      "metadata": {
        "colab_type": "text",
        "id": "bDHqHoNd8NaD"
      },
      "source": [
        "##Should we remove all these outliers from our dataset or not?\n",
        "In DataScience their is no predefined strategy . Where you can say for sure this is the right way to do it. All of us have different way, different methods and differnet openion.\n",
        "\n",
        "According to me in this particular case we have a millions of rows , So we can afford to loose few thousand . If it helps to create a better model."
      ]
    },
    {
      "cell_type": "code",
      "metadata": {
        "colab_type": "code",
        "id": "ML94jU_O-fcm",
        "colab": {}
      },
      "source": [
        "train.shape"
      ],
      "execution_count": 0,
      "outputs": []
    },
    {
      "cell_type": "code",
      "metadata": {
        "colab_type": "code",
        "id": "NKJRVP5fP_i7",
        "colab": {}
      },
      "source": [
        "train.to_csv('/content/drive/My Drive/PUBG Data/cleaned_data.csv', index=False)"
      ],
      "execution_count": 0,
      "outputs": []
    },
    {
      "cell_type": "code",
      "metadata": {
        "colab_type": "code",
        "id": "jeYul7WvoPeF",
        "colab": {}
      },
      "source": [
        "# import pandas as pd\n",
        "cleaned_data = pd.read_csv('/content/drive/My Drive/PUBG Data/cleaned_data.csv')\n",
        "cleaned_data = reduce_mem_usage(cleaned_data)"
      ],
      "execution_count": 0,
      "outputs": []
    },
    {
      "cell_type": "markdown",
      "metadata": {
        "colab_type": "text",
        "id": "HTr0Eljzec_r"
      },
      "source": [
        "# Part 3: Feature Engineering"
      ]
    },
    {
      "cell_type": "markdown",
      "metadata": {
        "colab_type": "text",
        "id": "M6saaHeQ9oCr"
      },
      "source": [
        "##Experiment: Adding/Removing some new Features and finding their correlation with the winPlacePer"
      ]
    },
    {
      "cell_type": "markdown",
      "metadata": {
        "colab_type": "text",
        "id": "UclrNKm5ACpd"
      },
      "source": [
        "A game in PUBG can have up to 100 players fighting each other. But most of the times a game isn't \"full\". There is no variable that gives us the number of players joined. So lets create one."
      ]
    },
    {
      "cell_type": "code",
      "metadata": {
        "colab_type": "code",
        "id": "oVS2fzMQKH0C",
        "colab": {}
      },
      "source": [
        "cleaned_data.head()"
      ],
      "execution_count": 0,
      "outputs": []
    },
    {
      "cell_type": "code",
      "metadata": {
        "colab_type": "code",
        "id": "vmmrzPWY_l3G",
        "colab": {}
      },
      "source": [
        "cleaned_data['_playersJoined'] = cleaned_data.groupby('matchId')['matchId'].transform('count')\n",
        "data = cleaned_data.copy()\n",
        "data = data[data['_playersJoined']>49]\n",
        "plt.figure(figsize=(15,10))\n",
        "sns.countplot(data['_playersJoined'])\n",
        "plt.title(\"Players Joined\",fontsize=15)\n",
        "plt.show()"
      ],
      "execution_count": 0,
      "outputs": []
    },
    {
      "cell_type": "markdown",
      "metadata": {
        "colab_type": "text",
        "id": "03RGKc9S_w-W"
      },
      "source": [
        "There are a few matches with less than 75 players that cannot be displayed here. As you can see most of the matches are nearly packed and have almost 100 players. "
      ]
    },
    {
      "cell_type": "markdown",
      "metadata": {
        "colab_type": "text",
        "id": "UiTXrODBAgCg"
      },
      "source": [
        "###Normalizing the features\n",
        "Now that we have a feature '_playersJoined' we can normalize other features based on the amount of players. Features that can be valuable to normalize are:\n",
        "\n",
        "- kills\n",
        "- damageDealt\n",
        "- maxPlace\n",
        "- matchDuration"
      ]
    },
    {
      "cell_type": "code",
      "metadata": {
        "colab_type": "code",
        "id": "3p81kro2ABeC",
        "colab": {}
      },
      "source": [
        "# Create normalized features\n",
        "cleaned_data['_killsNorm'] = cleaned_data['kills']*((100-cleaned_data['_playersJoined'])/100 + 1)\n",
        "cleaned_data['_damageDealtNorm'] = cleaned_data['damageDealt']*((100-cleaned_data['_playersJoined'])/100 + 1)\n",
        "cleaned_data['_maxPlaceNorm'] = cleaned_data['maxPlace']*((100-cleaned_data['_playersJoined'])/100 + 1)\n",
        "cleaned_data['_matchDurationNorm'] = cleaned_data['matchDuration']*((100-cleaned_data['_playersJoined'])/100 + 1)\n",
        "# Compare standard features and normalized features\n",
        "to_show = ['Id', 'kills','_killsNorm','damageDealt', '_damageDealtNorm', 'maxPlace', '_maxPlaceNorm', 'matchDuration', '_matchDurationNorm']\n",
        "cleaned_data[to_show][0:11]\n"
      ],
      "execution_count": 0,
      "outputs": []
    },
    {
      "cell_type": "code",
      "metadata": {
        "colab_type": "code",
        "id": "Zha3N5vP9tYV",
        "colab": {}
      },
      "source": [
        "match = cleaned_data.groupby('matchId')\n",
        "cleaned_data['_killsPerc'] = match['kills'].rank(pct=True).values\n",
        "cleaned_data['_killPlacePerc'] = match['killPlace'].rank(pct=True).values\n",
        "cleaned_data['_walkDistancePerc'] = match['walkDistance'].rank(pct=True).values\n",
        "cleaned_data['_damageDealtPerc'] = match['damageDealt'].rank(pct=True).values\n",
        "cleaned_data['_walkPerc_killsPerc'] = cleaned_data['_walkDistancePerc'] / cleaned_data['_killsPerc']\n",
        "cleaned_data.head()"
      ],
      "execution_count": 0,
      "outputs": []
    },
    {
      "cell_type": "code",
      "metadata": {
        "colab_type": "code",
        "id": "AgJsCRZXo7oc",
        "colab": {}
      },
      "source": [
        "corr = cleaned_data[['_killsPerc', '_killPlacePerc','_walkDistancePerc','_damageDealtPerc', '_walkPerc_killsPerc','winPlacePerc']].corr()"
      ],
      "execution_count": 0,
      "outputs": []
    },
    {
      "cell_type": "code",
      "metadata": {
        "colab_type": "code",
        "id": "g_jIMVa2poot",
        "colab": {}
      },
      "source": [
        "plt.figure(figsize=(15,8))\n",
        "sns.heatmap(\n",
        "    corr,\n",
        "    xticklabels=corr.columns.values,\n",
        "    yticklabels=corr.columns.values,\n",
        "    annot=True,\n",
        "    linecolor='white',\n",
        "    linewidths=0.1,\n",
        "    cmap=\"BrBG\"\n",
        ")\n",
        "plt.show()"
      ],
      "execution_count": 0,
      "outputs": []
    },
    {
      "cell_type": "code",
      "metadata": {
        "colab_type": "code",
        "id": "h68Dqn2q-Kgh",
        "colab": {}
      },
      "source": [
        "agg = cleaned_data.groupby(['groupId']).size().to_frame('players_in_team')\n",
        "cleaned_data = cleaned_data.merge(agg, how='left', on=['groupId'])\n",
        "cleaned_data['_healthItems'] = cleaned_data['heals'] + cleaned_data['boosts']\n",
        "cleaned_data['_headshotKillRate'] = cleaned_data['headshotKills'] / cleaned_data['kills']\n",
        "cleaned_data['_killPlaceOverMaxPlace'] = cleaned_data['killPlace'] / cleaned_data['maxPlace']\n",
        "cleaned_data['_killsOverWalkDistance'] = cleaned_data['kills'] / cleaned_data['walkDistance']\n",
        "cleaned_data['_killsOverDistance'] = cleaned_data['kills'] / cleaned_data['_totalDistance']\n",
        "cleaned_data['_walkDistancePerSec'] = cleaned_data['walkDistance'] / cleaned_data['matchDuration']\n",
        "cleaned_data.head()"
      ],
      "execution_count": 0,
      "outputs": []
    },
    {
      "cell_type": "code",
      "metadata": {
        "colab_type": "code",
        "id": "J4BKzERwk8Og",
        "colab": {}
      },
      "source": [
        "corr = cleaned_data[['killPlace', 'walkDistance','players_in_team','_healthItems', '_headshotKillRate', '_killPlaceOverMaxPlace', '_killsOverWalkDistance', '_killsOverDistance','_walkDistancePerSec','winPlacePerc']].corr()"
      ],
      "execution_count": 0,
      "outputs": []
    },
    {
      "cell_type": "code",
      "metadata": {
        "colab_type": "code",
        "id": "lsIaRdb0k8Ox",
        "colab": {}
      },
      "source": [
        "plt.figure(figsize=(15,8))\n",
        "sns.heatmap(\n",
        "    corr,\n",
        "    xticklabels=corr.columns.values,\n",
        "    yticklabels=corr.columns.values,\n",
        "    annot=True,\n",
        "    linecolor='white',\n",
        "    linewidths=0.1,\n",
        "    cmap=\"BrBG\"\n",
        ")\n",
        "plt.show()"
      ],
      "execution_count": 0,
      "outputs": []
    },
    {
      "cell_type": "code",
      "metadata": {
        "colab_type": "code",
        "id": "YiAmxVJKCDHS",
        "colab": {}
      },
      "source": [
        "cleaned_data.shape"
      ],
      "execution_count": 0,
      "outputs": []
    },
    {
      "cell_type": "code",
      "metadata": {
        "colab_type": "code",
        "id": "WJvqnhHICJ4P",
        "colab": {}
      },
      "source": [
        "cleaned_data.columns"
      ],
      "execution_count": 0,
      "outputs": []
    },
    {
      "cell_type": "code",
      "metadata": {
        "colab_type": "code",
        "id": "ANSzb1zpnQYF",
        "colab": {}
      },
      "source": [
        "cleaned_data.drop(['_headshotKillRate','_killsOverDistance', '_killsOverWalkDistance', ], axis=1, inplace=True)"
      ],
      "execution_count": 0,
      "outputs": []
    },
    {
      "cell_type": "code",
      "metadata": {
        "colab_type": "code",
        "id": "gdx9OTeXt-Yc",
        "colab": {}
      },
      "source": [
        "cleaned_data.head()"
      ],
      "execution_count": 0,
      "outputs": []
    },
    {
      "cell_type": "code",
      "metadata": {
        "colab_type": "code",
        "id": "tBhbD5JRsnPB",
        "colab": {}
      },
      "source": [
        "cols_to_fit = [col for col in cleaned_data.columns]\n",
        "corr = cleaned_data[cols_to_fit].corr()\n",
        "f,ax = plt.subplots(figsize=(30, 25))\n",
        "sns.heatmap(cleaned_data[cols_to_fit].corr(), annot=True, fmt= '.1f',ax=ax, cmap=\"BrBG\")\n",
        "sns.set(font_scale=1.25)\n",
        "plt.show()"
      ],
      "execution_count": 0,
      "outputs": []
    },
    {
      "cell_type": "markdown",
      "metadata": {
        "colab_type": "text",
        "id": "0FSKpvWmMRd5"
      },
      "source": [
        "##Removing features having 0 correlation with winPlacePerc"
      ]
    },
    {
      "cell_type": "code",
      "metadata": {
        "colab_type": "code",
        "id": "90ApP5uMMXzb",
        "colab": {}
      },
      "source": [
        "\n",
        "cleaned_data.drop(['killPoints','matchDuration','maxPlace','numGroups','rankPoints','roadKills','teamKills','winPoints', '_playersJoined', '_maxPlaceNorm', '_matchDurationNorm', '_killsWithoutMoving'], axis=1, inplace=True)\n",
        "# cleaned_data.drop(['headshotKills','roadKills','vehicleDestroys'], axis=1, inplace=True)\n",
        "# cleaned_data.drop(['rideDistance','swimDistance'], axis=1, inplace=True)\n",
        "# cleaned_data.drop(['rankPoints','killPoints','winPoints'], axis=1, inplace=True)\n"
      ],
      "execution_count": 0,
      "outputs": []
    },
    {
      "cell_type": "code",
      "metadata": {
        "colab_type": "code",
        "id": "D4eZ0sg3x1wV",
        "colab": {}
      },
      "source": [
        "# cleaned_data.drop(['maxPlace','numGroups','headshotKills','roadKills', 'teamKills','vehicleDestroys'], axis=1, inplace=True)"
      ],
      "execution_count": 0,
      "outputs": []
    },
    {
      "cell_type": "code",
      "metadata": {
        "colab_type": "code",
        "id": "CUrs2_imHuJT",
        "colab": {}
      },
      "source": [
        "# cleaned_data.drop(['_headshot_rate'], axis=1, inplace=True)"
      ],
      "execution_count": 0,
      "outputs": []
    },
    {
      "cell_type": "code",
      "metadata": {
        "colab_type": "code",
        "id": "Yt_G8JVaGjU2",
        "colab": {}
      },
      "source": [
        "cleaned_data.shape"
      ],
      "execution_count": 0,
      "outputs": []
    },
    {
      "cell_type": "markdown",
      "metadata": {
        "colab_type": "text",
        "id": "Cqc44PCtGOYt"
      },
      "source": [
        "##Removing variables with high correlation between them"
      ]
    },
    {
      "cell_type": "code",
      "metadata": {
        "colab_type": "code",
        "id": "FakzHJGzRD1B",
        "colab": {}
      },
      "source": [
        "\"\"\" Remove all the variables having high correlation among them\n",
        "Do it as a part of your assignment\n",
        "\"\"\""
      ],
      "execution_count": 0,
      "outputs": []
    },
    {
      "cell_type": "markdown",
      "metadata": {
        "colab_type": "text",
        "id": "kSYtX-BkLCQK"
      },
      "source": [
        "###Modifying the test data"
      ]
    },
    {
      "cell_type": "code",
      "metadata": {
        "colab_type": "code",
        "id": "itcXB4QuHGHY",
        "colab": {}
      },
      "source": [
        "test.shape"
      ],
      "execution_count": 0,
      "outputs": []
    },
    {
      "cell_type": "code",
      "metadata": {
        "colab_type": "code",
        "id": "PWvJtT_pwybe",
        "colab": {}
      },
      "source": [
        "cols_to_fit = [col for col in cleaned_data.columns]\n",
        "corr = cleaned_data[cols_to_fit].corr()\n",
        "f,ax = plt.subplots(figsize=(30, 20))\n",
        "sns.heatmap(corr, annot=True, fmt= '.1f',ax=ax, cmap=\"BrBG\")\n",
        "sns.set(font_scale=1.25)\n",
        "plt.show()"
      ],
      "execution_count": 0,
      "outputs": []
    },
    {
      "cell_type": "code",
      "metadata": {
        "colab_type": "code",
        "id": "l2li_H1Rz7-O",
        "colab": {}
      },
      "source": [
        "#saving highly correlated data\n",
        "cleaned_data.to_csv(  '/content/drive/My Drive/PUBG Data/Highly_correlated_data.csv', index=False)"
      ],
      "execution_count": 0,
      "outputs": []
    },
    {
      "cell_type": "markdown",
      "metadata": {
        "colab_type": "text",
        "id": "Oj-BZOpGZnhh"
      },
      "source": [
        "#Part 4: Final Prediction"
      ]
    },
    {
      "cell_type": "markdown",
      "metadata": {
        "colab_type": "text",
        "id": "YY8gA0v7OjVx"
      },
      "source": [
        "Let's have a look at our problem statement and our target variable\n",
        "\n",
        "> **Problem Statement:** *You must create a model which predicts **players' finishing placement** based on their final stats, on a scale from 1 (first place) to 0 (last place)*\n",
        "\n",
        "> **Target variable:** *winPlacePerc - This is a **percentile winning placement**, where 1 corresponds to 1st place, and 0 corresponds to last place in the match. It is calculated off of maxPlace, not numGroups, so it is possible to have missing chunks in a match.*\n",
        "\n",
        "So our goal is to **rank** players and our target variable is a **percentile**. \n",
        "\n",
        "These two bits are critical pieces of information: the goal tells us what kind of **Machine Learning technique** we want to use and the target definition tells us about its **distribution**."
      ]
    },
    {
      "cell_type": "markdown",
      "metadata": {
        "colab_type": "text",
        "id": "XlVh8EhlOr6h"
      },
      "source": [
        "**Machine Learning Technique:** What is the metric?\n",
        "\n",
        "\n",
        "Ideally, we would like to use a ranking algorithm like lambdarank/lambdamart.\n",
        "\n",
        "Learning to Rank (LTR) is a class of techniques that apply supervised machine learning to solve ranking problems. Essentially, the ranking is transformed into a pairwise regression problem. The algorithm compares pairs of items and comes up with the optimal ordering for that pair, iterating through the different pairs to extrapolate with the final ranking of all items.\n",
        "\n",
        "The business metric is the rank, not the MAE. Unfortunately, I've found the LGBM lambdarank implementation quite confusing and was unsuccessful at using it. As such we will optimize our algorithm using an MAE objective.\n",
        "\n",
        "Limitations using MAE:\n",
        "- The predictions are not bound, as such we can have some predictions falling above/below our percentile range\n",
        "- The predictions are not going to be unique, you could have several players/teams assigned same scores\n",
        "\n",
        "\n",
        "**Target variable:** Percentile\n",
        "\n",
        "In a  game of PUBG, each team gets assigned a percentile value so there should approximatly be the same cout of 0s, 0.5s, 1s etc. (there might be irregularities in the distribution due imbalance in team sizes or number of teams). We should expect to see a uniform distribution for all percentile scores value, and a gaussian distribution with mean 0.5 for the average percentile score per match. We want our target to mimic a uniform distribution as much as possible.\n",
        "\n"
      ]
    },
    {
      "cell_type": "code",
      "metadata": {
        "colab_type": "code",
        "id": "dEbpLG9nS48P",
        "colab": {}
      },
      "source": [
        "highly_corr = pd.read_csv('/content/drive/My Drive/PUBG Data/Highly_correlated_data.csv')\n",
        "highly_corr = reduce_mem_usage(highly_corr)"
      ],
      "execution_count": 0,
      "outputs": []
    },
    {
      "cell_type": "code",
      "metadata": {
        "colab_type": "code",
        "id": "pGu4ZcmiMtPW",
        "colab": {}
      },
      "source": [
        "highly_corr.shape"
      ],
      "execution_count": 0,
      "outputs": []
    },
    {
      "cell_type": "code",
      "metadata": {
        "colab_type": "code",
        "id": "m8P-AD03YUxM",
        "colab": {}
      },
      "source": [
        "X_train = highly_corr[highly_corr['winPlacePerc'].notnull()].reset_index(drop=True)\n",
        "X_test = highly_corr[highly_corr['winPlacePerc'].isnull()].drop(['winPlacePerc'], axis=1).reset_index(drop=True)\n",
        "\n",
        "\n",
        "Y_train = X_train.pop('winPlacePerc')\n",
        "X_test_grp = X_test[['matchId','groupId']].copy()\n",
        "train_matchId = X_train['matchId']\n",
        "\n",
        "# drop matchId,groupId\n",
        "X_train.drop(['matchId','groupId','Id'], axis=1, inplace=True)\n",
        "X_test.drop(['matchId','groupId','Id'], axis=1, inplace=True)\n",
        "\n",
        "print(X_train.shape, X_test.shape)"
      ],
      "execution_count": 0,
      "outputs": []
    },
    {
      "cell_type": "markdown",
      "metadata": {
        "_uuid": "c256f1f1c4a45cc97e4b5a7be99865c1f528f2e3",
        "colab_type": "text",
        "id": "F5KoD_1HjxbQ"
      },
      "source": [
        "## Dealing with Categorical Variables"
      ]
    },
    {
      "cell_type": "markdown",
      "metadata": {
        "_uuid": "5dcbdd5c6d1ebfbc14848b9829e47823f12c105b",
        "colab_type": "text",
        "id": "4kTcWnIKjxbR"
      },
      "source": [
        "We will one hot encode the 'matchType' feature to use it in our Random Forest model."
      ]
    },
    {
      "cell_type": "code",
      "metadata": {
        "_kg_hide-input": true,
        "_uuid": "510bcf385c79a92d9152377a952af78ce9cafcfd",
        "colab_type": "code",
        "id": "GNUn7yQyjxbS",
        "colab": {}
      },
      "source": [
        "print('There are {} different Match types in the dataset.'.format(highly_corr['matchType'].nunique()))"
      ],
      "execution_count": 0,
      "outputs": []
    },
    {
      "cell_type": "code",
      "metadata": {
        "_kg_hide-input": true,
        "_uuid": "b5a729fc92482307c171dfd788b546f1154c0b1c",
        "colab_type": "code",
        "id": "KfG4KwM7jxbW",
        "colab": {}
      },
      "source": [
        "# One hot encode matchType\n",
        "highly_corr = pd.get_dummies(highly_corr, columns=['matchType'])\n",
        "\n",
        "# Take a look at the encoding\n",
        "matchType_encoding = highly_corr.filter(regex='matchType')\n",
        "matchType_encoding.head()"
      ],
      "execution_count": 0,
      "outputs": []
    },
    {
      "cell_type": "markdown",
      "metadata": {
        "_uuid": "8382ed80c5307282913325c4a6fe90b833cdd2e3",
        "colab_type": "text",
        "id": "nroRt3_wjxbb"
      },
      "source": [
        "There are a lot of groupId's and matchId's so one-hot encoding them is computational suicide.\n",
        "We will turn them into category codes. That way we can still benefit from correlations between groups and matches in our Random Forest algorithm."
      ]
    },
    {
      "cell_type": "code",
      "metadata": {
        "_kg_hide-input": true,
        "_uuid": "133123c3b9d5d398c9bb4d62fdebde0d65c240ba",
        "colab_type": "code",
        "id": "e6sbtjqEjxbd",
        "colab": {}
      },
      "source": [
        "# Turn groupId and match Id into categorical types\n",
        "highly_corr['groupId'] = highly_corr['groupId'].astype('category')\n",
        "highly_corr['matchId'] = highly_corr['matchId'].astype('category')\n",
        "\n",
        "# Get category coding for groupId and matchID\n",
        "highly_corr['groupId_cat'] = highly_corr['groupId'].cat.codes\n",
        "highly_corr['matchId_cat'] = highly_corr['matchId'].cat.codes\n",
        "\n",
        "# Get rid of old columns\n",
        "highly_corr.drop(columns=['groupId', 'matchId'], inplace=True)\n",
        "\n",
        "# Lets take a look at our newly created features\n",
        "highly_corr[['groupId_cat', 'matchId_cat']].head()"
      ],
      "execution_count": 0,
      "outputs": []
    },
    {
      "cell_type": "code",
      "metadata": {
        "_kg_hide-input": true,
        "_uuid": "9ceab55a2e10123e8d59855c24d49a314e8cce07",
        "colab_type": "code",
        "id": "IkGFCR3Gjxbk",
        "colab": {}
      },
      "source": [
        "# Drop Id column, because it probably won't be useful for our Machine Learning algorithm,\n",
        "# because the test set contains different Id's\n",
        "highly_corr.drop(columns = ['Id'], inplace=True)"
      ],
      "execution_count": 0,
      "outputs": []
    },
    {
      "cell_type": "markdown",
      "metadata": {
        "_uuid": "b0cf78cccb5e01bbe8aa155db5dc4d9df175352b",
        "colab_type": "text",
        "id": "0VBqAYWLjxbq"
      },
      "source": [
        "# Getting prepared for Machine Learning <a id=\"8\"></a>"
      ]
    },
    {
      "cell_type": "markdown",
      "metadata": {
        "_uuid": "4d585439ad63102cce6dac9801d1fd1e9e7fab03",
        "colab_type": "text",
        "id": "U94IeMHpjxbr"
      },
      "source": [
        "## Sampling"
      ]
    },
    {
      "cell_type": "markdown",
      "metadata": {
        "_uuid": "8cd476a71251ba0d0592e9f2bb7972dfd1dac6d4",
        "colab_type": "text",
        "id": "DdSf80_jjxbs"
      },
      "source": [
        "We will take a sample of 500000 rows from our training set for easy debugging and exploration."
      ]
    },
    {
      "cell_type": "code",
      "metadata": {
        "_kg_hide-input": true,
        "_uuid": "f314c6b60c814bebbffd36946f0fabb572de384a",
        "colab_type": "code",
        "id": "F34t_DQajxbt",
        "colab": {}
      },
      "source": [
        "# Take sample for debugging and exploration\n",
        "sample = 500000\n",
        "df_sample = highly_corr.sample(sample)"
      ],
      "execution_count": 0,
      "outputs": []
    },
    {
      "cell_type": "markdown",
      "metadata": {
        "_uuid": "78f2dea8253ffa5ada2797b0cf49c0eb83513bd0",
        "colab_type": "text",
        "id": "Cr4P8ZtKjxb3"
      },
      "source": [
        "## Split target variable, validation data, etc."
      ]
    },
    {
      "cell_type": "code",
      "metadata": {
        "_kg_hide-input": true,
        "_uuid": "b186279f329752b77f26d523095d89b493fcfd22",
        "colab_type": "code",
        "id": "zlE-Lzc4jxb4",
        "colab": {}
      },
      "source": [
        "# Split sample into training data and target variable\n",
        "df = df_sample.drop(columns = ['winPlacePerc']) #all columns except target\n",
        "y = df_sample['winPlacePerc'] # Only target variable"
      ],
      "execution_count": 0,
      "outputs": []
    },
    {
      "cell_type": "code",
      "metadata": {
        "_kg_hide-input": true,
        "_uuid": "1b9e944106ee40c231d60b9056bc841eed180405",
        "colab_type": "code",
        "id": "qUKKeax0jxb8",
        "colab": {}
      },
      "source": [
        "# Function for splitting training and validation data\n",
        "def split_vals(a, n : int): \n",
        "    return a[:n].copy(), a[n:].copy()\n",
        "val_perc = 0.12 # % to use for validation set\n",
        "n_valid = int(val_perc * sample) \n",
        "n_trn = len(df)-n_valid\n",
        "# Split data\n",
        "raw_train, raw_valid = split_vals(df_sample, n_trn)\n",
        "X_train, X_valid = split_vals(df, n_trn)\n",
        "y_train, y_valid = split_vals(y, n_trn)\n",
        "\n",
        "# Check dimensions of samples\n",
        "print('Sample train shape: ', X_train.shape, \n",
        "      'Sample target shape: ', y_train.shape, \n",
        "      'Sample validation shape: ', X_valid.shape)"
      ],
      "execution_count": 0,
      "outputs": []
    },
    {
      "cell_type": "markdown",
      "metadata": {
        "_uuid": "6d8c3d9e3f5efd4040a32ddf047406fa17a3dad7",
        "colab_type": "text",
        "id": "wDXwcEWajxcB"
      },
      "source": [
        "## Defining function for calculating Mean Absolute Error (MAE)"
      ]
    },
    {
      "cell_type": "code",
      "metadata": {
        "_kg_hide-input": true,
        "_uuid": "7dee35b5298eb55750e4e338439be5c8b13acd0f",
        "colab_type": "code",
        "id": "uJFdwcMHjxcD",
        "colab": {}
      },
      "source": [
        "# Metric used for the PUBG competition (Mean Absolute Error (MAE))\n",
        "from sklearn.metrics import mean_absolute_error\n",
        "from sklearn.ensemble import RandomForestRegressor\n",
        "\n",
        "# Function to print the MAE (Mean Absolute Error) score\n",
        "\n",
        "def print_score(m : RandomForestRegressor):\n",
        "    res = ['mae train: ', mean_absolute_error(m.predict(X_train), y_train), \n",
        "           'mae val: ', mean_absolute_error(m.predict(X_valid), y_valid)]\n",
        "    #Score of the training dataset obtained using an out-of-bag estimate.\n",
        "    if hasattr(m, 'oob_score_'): res.append(m.oob_score_)\n",
        "    print(res)"
      ],
      "execution_count": 0,
      "outputs": []
    },
    {
      "cell_type": "markdown",
      "metadata": {
        "_uuid": "e6ec67f2a1507fc9af1131ade377c4058bd580a6",
        "colab_type": "text",
        "id": "UnlmmO9RjxcL"
      },
      "source": [
        "## Creating a basic Random Forest Model"
      ]
    },
    {
      "cell_type": "code",
      "metadata": {
        "_uuid": "d4489216c4511111d67ae7f492fde6bf8e78930e",
        "colab_type": "code",
        "id": "IRf76EQ2jxcM",
        "colab": {}
      },
      "source": [
        "# Train basic model\n",
        "m1 = RandomForestRegressor(n_estimators=40, min_samples_leaf=3, max_features='sqrt', n_jobs=-1)\n",
        "m1.fit(X_train, y_train)\n",
        "print_score(m1)"
      ],
      "execution_count": 0,
      "outputs": []
    },
    {
      "cell_type": "markdown",
      "metadata": {
        "_uuid": "a6f61fcbf672cfba905b99cc781ac3e8a648be89",
        "colab_type": "text",
        "id": "BvyOtRpDjxcT"
      },
      "source": [
        "## Finding Feature Importance using Random Forest"
      ]
    },
    {
      "cell_type": "code",
      "metadata": {
        "colab_type": "code",
        "id": "OwjYvpj0qXXY",
        "colab": {}
      },
      "source": [
        "def rf_feat_importance(m, df):\n",
        "    return pd.DataFrame({'cols':df.columns, 'imp':m.feature_importances_}).sort_values('imp', ascending=False)"
      ],
      "execution_count": 0,
      "outputs": []
    },
    {
      "cell_type": "code",
      "metadata": {
        "_kg_hide-input": true,
        "_uuid": "ed5518de78d258cb9e48b9eaf7181505a26422ce",
        "colab_type": "code",
        "id": "t10myHfhjxcV",
        "colab": {}
      },
      "source": [
        "# What are the most predictive features according to our basic random forest model\n",
        "fi = rf_feat_importance(m1, df); fi[:15]"
      ],
      "execution_count": 0,
      "outputs": []
    },
    {
      "cell_type": "code",
      "metadata": {
        "_kg_hide-input": true,
        "_uuid": "9d4f1ee82e91edcf21ae642f2b31e47220fa25b5",
        "colab_type": "code",
        "id": "ShbeGg1njxcX",
        "colab": {}
      },
      "source": [
        "# Plot a feature importance graph for the 20 most important features\n",
        "plot1 = fi[:15].plot('cols', 'imp', figsize=(14,6), legend=False, kind = 'barh')\n",
        "plot1"
      ],
      "execution_count": 0,
      "outputs": []
    },
    {
      "cell_type": "code",
      "metadata": {
        "colab_type": "code",
        "id": "ut8U3YjXZAJ6",
        "colab": {}
      },
      "source": [
        "X_train.columns"
      ],
      "execution_count": 0,
      "outputs": []
    },
    {
      "cell_type": "code",
      "metadata": {
        "colab_type": "code",
        "id": "m66PCE2pek5p",
        "colab": {}
      },
      "source": [
        "print(X_train.shape, y_train.shape)"
      ],
      "execution_count": 0,
      "outputs": []
    },
    {
      "cell_type": "code",
      "metadata": {
        "colab_type": "code",
        "id": "pFNtvXsEffJ1",
        "colab": {}
      },
      "source": [
        "# Keep only significant features\n",
        "to_keep = fi[fi.imp>0.005].cols\n",
        "print('Significant features: ', len(to_keep))\n",
        "to_keep"
      ],
      "execution_count": 0,
      "outputs": []
    },
    {
      "cell_type": "code",
      "metadata": {
        "colab_type": "code",
        "id": "VBVu6Oetfkuj",
        "colab": {}
      },
      "source": [
        "# Make a DataFrame with only significant features\n",
        "df_keep = df[to_keep].copy()\n",
        "X_train, X_valid = split_vals(df_keep, n_trn)"
      ],
      "execution_count": 0,
      "outputs": []
    },
    {
      "cell_type": "markdown",
      "metadata": {
        "colab_type": "text",
        "id": "qFGmjsqigdFY"
      },
      "source": [
        "## Building a Random Forest Model with top features"
      ]
    },
    {
      "cell_type": "code",
      "metadata": {
        "colab_type": "code",
        "id": "PQ0fVsGcfl18",
        "colab": {}
      },
      "source": [
        "# Train model on top features\n",
        "m2 = RandomForestRegressor(n_estimators=80, min_samples_leaf=3, max_features='sqrt', n_jobs=-1)\n",
        "m2.fit(X_train, y_train)\n",
        "print_score(m2)"
      ],
      "execution_count": 0,
      "outputs": []
    },
    {
      "cell_type": "code",
      "metadata": {
        "colab_type": "code",
        "id": "KdwaGDLHfudA",
        "colab": {}
      },
      "source": [
        "# Get feature importances of our top features\n",
        "fi_to_keep = rf_feat_importance(m2, df_keep)\n",
        "plot2 = fi_to_keep.plot('cols', 'imp', figsize=(14,6), legend=False, kind = 'barh')\n",
        "plot2"
      ],
      "execution_count": 0,
      "outputs": []
    },
    {
      "cell_type": "markdown",
      "metadata": {
        "colab_type": "text",
        "id": "7DjWVvsxgm7N"
      },
      "source": [
        "###Generating a Dendogram to view highly correlated features"
      ]
    },
    {
      "cell_type": "code",
      "metadata": {
        "colab_type": "code",
        "id": "QqGpr_UEf9Qb",
        "colab": {}
      },
      "source": [
        "import scipy\n",
        "from scipy.cluster import hierarchy as hc\n",
        "# Create a Dendrogram to view highly correlated features\n",
        "corr = np.round(scipy.stats.spearmanr(df_keep).correlation, 4)\n",
        "corr_condensed = hc.distance.squareform(1-corr)\n",
        "z = hc.linkage(corr_condensed, method='average')\n",
        "fig = plt.figure(figsize=(14,10))\n",
        "dendrogram = hc.dendrogram(z, labels=df_keep.columns, orientation='left', leaf_font_size=16)\n",
        "plt.plot()"
      ],
      "execution_count": 0,
      "outputs": []
    },
    {
      "cell_type": "code",
      "metadata": {
        "colab_type": "code",
        "id": "pmSMCtTKg-VZ",
        "colab": {}
      },
      "source": [
        "# Defining a function get_sample to get random sample of n rows from dataframe(df), without replacement.\n",
        "def get_sample(df,n):\n",
        "    idxs = sorted(np.random.permutation(len(df))[:n])\n",
        "    return df.iloc[idxs].copy()"
      ],
      "execution_count": 0,
      "outputs": []
    },
    {
      "cell_type": "code",
      "metadata": {
        "colab_type": "code",
        "id": "zdeHVezVjkkJ",
        "colab": {}
      },
      "source": [
        "!pip install pdpbox"
      ],
      "execution_count": 0,
      "outputs": []
    },
    {
      "cell_type": "code",
      "metadata": {
        "colab_type": "code",
        "id": "ae2777wQjwoi",
        "colab": {}
      },
      "source": [
        "!pip install pandas_summary"
      ],
      "execution_count": 0,
      "outputs": []
    },
    {
      "cell_type": "code",
      "metadata": {
        "colab_type": "code",
        "id": "cUSZGN-Fjznx",
        "colab": {}
      },
      "source": [
        "!pip install plotnine"
      ],
      "execution_count": 0,
      "outputs": []
    },
    {
      "cell_type": "code",
      "metadata": {
        "colab_type": "code",
        "id": "Cqbi83kNv62P",
        "colab": {}
      },
      "source": [
        "df_keep.head()"
      ],
      "execution_count": 0,
      "outputs": []
    },
    {
      "cell_type": "code",
      "metadata": {
        "colab_type": "code",
        "id": "oyIxGwObgk6I",
        "colab": {}
      },
      "source": [
        "# Plot the predictive quality of kills \n",
        "# from pdpbox import pdp\n",
        "from plotnine import *\n",
        "from pandas_summary import DataFrameSummary\n",
        "x_all = get_sample(highly_corr, 100000)\n",
        "ggplot(x_all, aes('_walkPerc_killsPerc','winPlacePerc'))+stat_smooth(se=True, colour='red', method='mavg')"
      ],
      "execution_count": 0,
      "outputs": []
    },
    {
      "cell_type": "code",
      "metadata": {
        "colab_type": "code",
        "id": "X9L60zHYweBg",
        "colab": {}
      },
      "source": [
        "# Plot the predictive quality of walkDistance\n",
        "x_all = get_sample(highly_corr, 100000)\n",
        "ggplot(x_all, aes('_totalDistance','winPlacePerc'))+stat_smooth(se=True, colour='red', method='mavg')"
      ],
      "execution_count": 0,
      "outputs": []
    },
    {
      "cell_type": "code",
      "metadata": {
        "colab_type": "code",
        "id": "x8CVYqz7wxOk",
        "colab": {}
      },
      "source": [
        "# Prepare data\n",
        "train = highly_corr.copy()\n",
        "val_perc_full = 0.20 # % to use for validation set\n",
        "n_valid_full = int(val_perc_full * len(train)) \n",
        "n_trn_full = len(train)-n_valid_full\n",
        "df_full = train.drop(columns = ['winPlacePerc']) # all columns except target\n",
        "y = train['winPlacePerc'] # target variable\n",
        "df_full = df_full[to_keep] # Keep only relevant features\n",
        "X_train, X_valid = split_vals(df_full, n_trn_full)\n",
        "y_train, y_valid = split_vals(y, n_trn_full)\n",
        "\n",
        "# Check dimensions of data\n",
        "print('Sample train shape: ', X_train.shape, \n",
        "      'Sample target shape: ', y_train.shape, \n",
        "      'Sample validation shape: ', X_valid.shape)"
      ],
      "execution_count": 0,
      "outputs": []
    },
    {
      "cell_type": "code",
      "metadata": {
        "colab_type": "code",
        "id": "M_mw_tFawyvY",
        "colab": {}
      },
      "source": [
        "# Train final model\n",
        "# You should get better results by increasing n_estimators\n",
        "# and by playing around with the parameters\n",
        "m3 = RandomForestRegressor(n_estimators=50, min_samples_leaf=3, max_features=0.5,\n",
        "                          n_jobs=-1)\n",
        "m3.fit(X_train, y_train)\n",
        "print_score(m3)"
      ],
      "execution_count": 0,
      "outputs": []
    },
    {
      "cell_type": "code",
      "metadata": {
        "colab_type": "code",
        "id": "fsLis4c3pKxh",
        "colab": {}
      },
      "source": [
        "test.head()"
      ],
      "execution_count": 0,
      "outputs": []
    },
    {
      "cell_type": "code",
      "metadata": {
        "colab_type": "code",
        "id": "vF6GMyNWpT1p",
        "colab": {}
      },
      "source": [
        "train.head()"
      ],
      "execution_count": 0,
      "outputs": []
    },
    {
      "cell_type": "markdown",
      "metadata": {
        "colab_type": "text",
        "id": "j-gfhTRyVamV"
      },
      "source": [
        "###Modifying the test data"
      ]
    },
    {
      "cell_type": "code",
      "metadata": {
        "colab_type": "code",
        "id": "TVZO6HfGQY3D",
        "colab": {}
      },
      "source": [
        "test = pd.read_csv('/content/drive/My Drive/PUBG Data/test_V2.csv')\n",
        "test = reduce_mem_usage(test)"
      ],
      "execution_count": 0,
      "outputs": []
    },
    {
      "cell_type": "code",
      "metadata": {
        "colab_type": "code",
        "id": "4lJfM0yfO6u3",
        "colab": {}
      },
      "source": [
        "#Adding same features to test data\n",
        "agg = test.groupby(['groupId']).size().to_frame('players_in_team')\n",
        "test = test.merge(agg, how='left', on=['groupId'])\n",
        "test['_headshot_rate'] = test['headshotKills'] / test['kills']\n",
        "test['_headshot_rate'] = test['_headshot_rate'].fillna(0)\n",
        "test['_totalDistance'] = test['rideDistance'] + test['walkDistance'] + test['swimDistance']\n",
        "test['_playersJoined'] = test.groupby('matchId')['matchId'].transform('count')\n",
        "test['_killsNorm'] = test['kills']*((100-test['_playersJoined'])/100 + 1)\n",
        "test['_damageDealtNorm'] = test['damageDealt']*((100-test['_playersJoined'])/100 + 1)\n",
        "test['_healthItems'] = test['heals'] + test['boosts']\n",
        "test['killsWithoutMoving'] = ((test['kills'] > 0) & (test['_totalDistance'] == 0))\n",
        "test['_killPlacePerc'] = test['killPlace'].rank(pct=True).values\n",
        "test['_killsPerc'] = test['kills'].rank(pct=True).values\n",
        "test['_walkDistancePerc'] = test['walkDistance'].rank(pct=True).values\n",
        "test['_walkPerc_killsPerc'] = test['_walkDistancePerc'] / test['_killsPerc']\n",
        "test['_killPlaceOverMaxPlace'] = test['killPlace'] / test['maxPlace']\n",
        "test['_killsPerc'] = test['kills'].rank(pct=True).values\n",
        "test['_walkDistancePerc'] = test['walkDistance'].rank(pct=True).values\n",
        "test['_walkDistancePerSec'] = test['walkDistance'] / test['matchDuration']\n"
      ],
      "execution_count": 0,
      "outputs": []
    },
    {
      "cell_type": "code",
      "metadata": {
        "colab_type": "code",
        "id": "qnsdF_ocO97N",
        "colab": {}
      },
      "source": [
        "test.head()"
      ],
      "execution_count": 0,
      "outputs": []
    },
    {
      "cell_type": "code",
      "metadata": {
        "colab_type": "code",
        "id": "Bz_FyIg0lPYT",
        "colab": {}
      },
      "source": [
        "# Turn groupId and match Id into categorical types\n",
        "test['groupId'] = test['groupId'].astype('category')\n",
        "test['matchId'] = test['matchId'].astype('category')\n",
        "\n",
        "# Get category coding for groupId and matchID\n",
        "test['groupId_cat'] = test['groupId'].cat.codes\n",
        "test['matchId_cat'] = test['matchId'].cat.codes"
      ],
      "execution_count": 0,
      "outputs": []
    },
    {
      "cell_type": "code",
      "metadata": {
        "colab_type": "code",
        "id": "jsVgTg64PpR3",
        "colab": {}
      },
      "source": [
        "# # Remove irrelevant features from the test set\n",
        "test_pred = test[to_keep].copy()\n",
        "\n",
        "# Fill NaN with 0 (temporary)\n",
        "test_pred.fillna(0, inplace=True)\n",
        "test_pred.head()"
      ],
      "execution_count": 0,
      "outputs": []
    },
    {
      "cell_type": "markdown",
      "metadata": {
        "colab_type": "text",
        "id": "qE8L3c_zVj64"
      },
      "source": [
        "### Predicting the final winPlacePerc"
      ]
    },
    {
      "cell_type": "code",
      "metadata": {
        "colab_type": "code",
        "id": "35c8po-diKgu",
        "colab": {}
      },
      "source": [
        "predictions = np.clip(a = m3.predict(test_pred), a_min = 0.0, a_max = 1.0)\n",
        "pred_df = pd.DataFrame({'Id' : test['Id'], 'winPlacePerc' : predictions})\n",
        "pred_df\n",
        "# Create submission file\n",
        "# pred_df.to_csv(\"submission.csv\", index=False)"
      ],
      "execution_count": 0,
      "outputs": []
    },
    {
      "cell_type": "code",
      "metadata": {
        "colab_type": "code",
        "id": "KBv4cnpSlAHg",
        "colab": {}
      },
      "source": [
        ""
      ],
      "execution_count": 0,
      "outputs": []
    }
  ]
}